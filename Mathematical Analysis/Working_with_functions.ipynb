{
  "cells": [
    {
      "cell_type": "markdown",
      "metadata": {
        "id": "pH1uPsY2tfMz"
      },
      "source": [
        "From: A.K.\n",
        "\n"
      ]
    },
    {
      "cell_type": "markdown",
      "metadata": {
        "id": "tKQkoIuytfM5"
      },
      "source": [
        "## Working with functions"
      ]
    },
    {
      "cell_type": "markdown",
      "source": [
        "1. Defining a function in Python\n",
        "\n",
        "2. Drawing the graph of a function\n",
        "\n",
        "3. Calculating the limit of a function\n",
        "\n",
        "4. Finding the derivative of a function (including the derivative of a complex function)\n",
        "\n",
        "5. Finding the partial derivative\n",
        "\n",
        "6. Calculation of the gradient\n",
        "\n",
        "7. Visualizing a function of several variables"
      ],
      "metadata": {
        "id": "SA0ynlwOtyiO"
      }
    },
    {
      "cell_type": "markdown",
      "metadata": {
        "id": "miR07G0CtfM6"
      },
      "source": [
        "## 1. Defining a function in Python\n"
      ]
    },
    {
      "cell_type": "code",
      "execution_count": 1,
      "metadata": {
        "id": "Mk_VsmDRtfM7"
      },
      "outputs": [],
      "source": [
        "from sympy import *"
      ]
    },
    {
      "cell_type": "code",
      "execution_count": 2,
      "metadata": {
        "id": "Uma9tjuWtfM-"
      },
      "outputs": [],
      "source": [
        "def simple_def(x):\n",
        "    return (2*x**2 - 3*x + 2) / (4*x + 20 - 5*x**2)"
      ]
    },
    {
      "cell_type": "markdown",
      "metadata": {
        "id": "HN1bfvEPtfM_"
      },
      "source": [
        "Function"
      ]
    },
    {
      "cell_type": "code",
      "execution_count": 3,
      "metadata": {
        "colab": {
          "base_uri": "https://localhost:8080/",
          "height": 55
        },
        "id": "HXyIyQaQtfNA",
        "outputId": "43c5e653-6aba-4baf-f8a2-eba928f2df1c"
      },
      "outputs": [
        {
          "output_type": "execute_result",
          "data": {
            "text/plain": [
              "(2*x**2 - 3*x + 2)/(-5*x**2 + 4*x + 20)"
            ],
            "text/latex": "$\\displaystyle \\frac{2 x^{2} - 3 x + 2}{- 5 x^{2} + 4 x + 20}$"
          },
          "metadata": {},
          "execution_count": 3
        }
      ],
      "source": [
        "simple_def(symbols('x'))"
      ]
    },
    {
      "cell_type": "markdown",
      "metadata": {
        "id": "v9m1E3hgtfNC"
      },
      "source": [
        "An example"
      ]
    },
    {
      "cell_type": "code",
      "execution_count": 4,
      "metadata": {
        "colab": {
          "base_uri": "https://localhost:8080/"
        },
        "id": "TlJFP9RytfND",
        "outputId": "a96c1a22-0312-4923-d6d0-4265c15569ba"
      },
      "outputs": [
        {
          "output_type": "execute_result",
          "data": {
            "text/plain": [
              "-0.846"
            ]
          },
          "metadata": {},
          "execution_count": 4
        }
      ],
      "source": [
        "round(simple_def(3), 3)"
      ]
    },
    {
      "cell_type": "code",
      "execution_count": 5,
      "metadata": {
        "colab": {
          "base_uri": "https://localhost:8080/"
        },
        "id": "aZFQFFYetfNE",
        "outputId": "143161b2-fbe7-435f-e5d1-0135c8091ac9"
      },
      "outputs": [
        {
          "output_type": "execute_result",
          "data": {
            "text/plain": [
              "-0.435"
            ]
          },
          "metadata": {},
          "execution_count": 5
        }
      ],
      "source": [
        "round(simple_def(5), 3)"
      ]
    },
    {
      "cell_type": "code",
      "execution_count": 6,
      "metadata": {
        "colab": {
          "base_uri": "https://localhost:8080/"
        },
        "id": "dA_oPVhMtfNF",
        "outputId": "44bedfee-f8ba-494b-a317-b198b8e452b0"
      },
      "outputs": [
        {
          "output_type": "execute_result",
          "data": {
            "text/plain": [
              "-2.0"
            ]
          },
          "metadata": {},
          "execution_count": 6
        }
      ],
      "source": [
        "round(simple_def(-2), 3)"
      ]
    },
    {
      "cell_type": "markdown",
      "metadata": {
        "id": "B6w99lKktfNG"
      },
      "source": [
        "2. Drawing the graph of a function\n"
      ]
    },
    {
      "cell_type": "code",
      "execution_count": 7,
      "metadata": {
        "id": "LhC8Un8TtfNG"
      },
      "outputs": [],
      "source": [
        "import matplotlib.pyplot as plt\n",
        "%matplotlib inline\n",
        "import numpy as np"
      ]
    },
    {
      "cell_type": "code",
      "execution_count": 8,
      "metadata": {
        "colab": {
          "base_uri": "https://localhost:8080/",
          "height": 315
        },
        "id": "8dyzZW1ftfNH",
        "outputId": "79587794-8f01-4d1a-d553-3c22db5ae5ea"
      },
      "outputs": [
        {
          "output_type": "display_data",
          "data": {
            "text/plain": [
              "<Figure size 432x288 with 1 Axes>"
            ],
            "image/png": "[encoded data removed]"
          },
          "metadata": {
            "needs_background": "light"
          }
        }
      ],
      "source": [
        "x = np.linspace(-2, 2, 21);\n",
        "y = simple_def(x);\n",
        "\n",
        "plt.plot(x, y, 'bo--');\n",
        "plt.grid()\n",
        "plt.xlabel('x', fontsize = 14)\n",
        "plt.ylabel('y', fontsize = 14)\n",
        "plt.title(r'Graph of $y = ' + latex(simple_def(symbols('x'))) +'$', fontsize = 16);"
      ]
    },
    {
      "cell_type": "markdown",
      "metadata": {
        "id": "gEvwCtOmtfNI"
      },
      "source": [
        "## 3. Calculating the limit of a function"
      ]
    },
    {
      "cell_type": "code",
      "execution_count": 9,
      "metadata": {
        "id": "_9BbGgKktfNI"
      },
      "outputs": [],
      "source": [
        "x = symbols('x')\n",
        "expr = simple_def(x)"
      ]
    },
    {
      "cell_type": "markdown",
      "metadata": {
        "id": "5NSPpDqFtfNJ"
      },
      "source": [
        "The limit of the function at **x** tending to **1** is"
      ]
    },
    {
      "cell_type": "code",
      "execution_count": 10,
      "metadata": {
        "colab": {
          "base_uri": "https://localhost:8080/",
          "height": 51
        },
        "id": "tv3ocYRNtfNJ",
        "outputId": "ac0bf1bf-e189-4476-d45b-ff8cb757308f"
      },
      "outputs": [
        {
          "output_type": "execute_result",
          "data": {
            "text/plain": [
              "1/19"
            ],
            "text/latex": "$\\displaystyle \\frac{1}{19}$"
          },
          "metadata": {},
          "execution_count": 10
        }
      ],
      "source": [
        "limit(expr, x, 1)"
      ]
    },
    {
      "cell_type": "markdown",
      "metadata": {
        "id": "gsivcUFAtfNK"
      },
      "source": [
        "The limit of the function at **x** tending to **-1** is "
      ]
    },
    {
      "cell_type": "code",
      "execution_count": 11,
      "metadata": {
        "colab": {
          "base_uri": "https://localhost:8080/",
          "height": 51
        },
        "id": "x5pl_ncAtfNK",
        "outputId": "87fb1d87-a75a-4ecb-afb2-4235c0c26774"
      },
      "outputs": [
        {
          "output_type": "execute_result",
          "data": {
            "text/plain": [
              "7/11"
            ],
            "text/latex": "$\\displaystyle \\frac{7}{11}$"
          },
          "metadata": {},
          "execution_count": 11
        }
      ],
      "source": [
        "limit(expr, x, -1)"
      ]
    },
    {
      "cell_type": "markdown",
      "metadata": {
        "id": "St8XBGnjtfNL"
      },
      "source": [
        "The limit of the function at **x** tending to **0** is"
      ]
    },
    {
      "cell_type": "code",
      "execution_count": 12,
      "metadata": {
        "colab": {
          "base_uri": "https://localhost:8080/",
          "height": 51
        },
        "id": "lmGgczPWtfNL",
        "outputId": "0507aa2b-cefd-4fe1-8f93-d3c61c641c08"
      },
      "outputs": [
        {
          "output_type": "execute_result",
          "data": {
            "text/plain": [
              "1/10"
            ],
            "text/latex": "$\\displaystyle \\frac{1}{10}$"
          },
          "metadata": {},
          "execution_count": 12
        }
      ],
      "source": [
        "limit(expr, x, 0)"
      ]
    },
    {
      "cell_type": "markdown",
      "metadata": {
        "id": "fQYNylaXtfNM"
      },
      "source": [
        "The limit of the function at **x** tending to **oo** is"
      ]
    },
    {
      "cell_type": "code",
      "execution_count": 13,
      "metadata": {
        "colab": {
          "base_uri": "https://localhost:8080/",
          "height": 51
        },
        "id": "J0HcIpyVtfNM",
        "outputId": "baf8a50f-54e7-4396-92b2-0e4f009a12ad"
      },
      "outputs": [
        {
          "output_type": "execute_result",
          "data": {
            "text/plain": [
              "-2/5"
            ],
            "text/latex": "$\\displaystyle - \\frac{2}{5}$"
          },
          "metadata": {},
          "execution_count": 13
        }
      ],
      "source": [
        "limit(expr, x, oo)"
      ]
    },
    {
      "cell_type": "markdown",
      "metadata": {
        "id": "HkyCu-FNtfNN"
      },
      "source": [
        "The limit of the function at **x** tending to **-oo** is "
      ]
    },
    {
      "cell_type": "code",
      "execution_count": 14,
      "metadata": {
        "colab": {
          "base_uri": "https://localhost:8080/",
          "height": 51
        },
        "id": "EfkTwK_8tfNN",
        "outputId": "10c6fc50-c01d-425f-c752-0269526fe216"
      },
      "outputs": [
        {
          "output_type": "execute_result",
          "data": {
            "text/plain": [
              "-2/5"
            ],
            "text/latex": "$\\displaystyle - \\frac{2}{5}$"
          },
          "metadata": {},
          "execution_count": 14
        }
      ],
      "source": [
        "limit(expr, x, -oo)"
      ]
    },
    {
      "cell_type": "markdown",
      "metadata": {
        "id": "V6NGtK9ntfNN"
      },
      "source": [
        "##4. Finding the derivative of a function (including the derivative of a complex function)"
      ]
    },
    {
      "cell_type": "markdown",
      "metadata": {
        "id": "CMifxnKJtfNN"
      },
      "source": [
        "Function"
      ]
    },
    {
      "cell_type": "code",
      "execution_count": 15,
      "metadata": {
        "colab": {
          "base_uri": "https://localhost:8080/",
          "height": 55
        },
        "id": "vPDsSBw9tfNO",
        "outputId": "e330c6d8-a748-44ca-cd6e-f59df7f8ec57"
      },
      "outputs": [
        {
          "output_type": "execute_result",
          "data": {
            "text/plain": [
              "(2*x**2 - 3*x + 2)/(-5*x**2 + 4*x + 20)"
            ],
            "text/latex": "$\\displaystyle \\frac{2 x^{2} - 3 x + 2}{- 5 x^{2} + 4 x + 20}$"
          },
          "metadata": {},
          "execution_count": 15
        }
      ],
      "source": [
        "x = symbols('x')\n",
        "expr_simple = simple_def(x)\n",
        "\n",
        "expr_simple"
      ]
    },
    {
      "cell_type": "markdown",
      "metadata": {
        "id": "-DsXHdPOtfNO"
      },
      "source": [
        "*The derivative of the function*"
      ]
    },
    {
      "cell_type": "code",
      "execution_count": 16,
      "metadata": {
        "id": "WSCiTe3StfNO"
      },
      "outputs": [],
      "source": [
        "diff(expr_simple, x);"
      ]
    },
    {
      "cell_type": "markdown",
      "metadata": {
        "id": "ETWsg0cztfNP"
      },
      "source": [
        "*A complex function*"
      ]
    },
    {
      "cell_type": "code",
      "execution_count": 17,
      "metadata": {
        "id": "K2s8EySUtfNP"
      },
      "outputs": [],
      "source": [
        "def multiplex_def(x):\n",
        "    return sin(x - 2) / tan(x + 10)"
      ]
    },
    {
      "cell_type": "code",
      "execution_count": 18,
      "metadata": {
        "colab": {
          "base_uri": "https://localhost:8080/",
          "height": 57
        },
        "id": "MZevZM3ttfNP",
        "outputId": "8b082d9a-11d6-4063-ea88-e7364b8bef0f"
      },
      "outputs": [
        {
          "output_type": "execute_result",
          "data": {
            "text/plain": [
              "sin(x - 2)/tan(x + 10)"
            ],
            "text/latex": "$\\displaystyle \\frac{\\sin{\\left(x - 2 \\right)}}{\\tan{\\left(x + 10 \\right)}}$"
          },
          "metadata": {},
          "execution_count": 18
        }
      ],
      "source": [
        "expr_multiplex = multiplex_def(x)\n",
        "\n",
        "expr_multiplex"
      ]
    },
    {
      "cell_type": "markdown",
      "metadata": {
        "id": "XX-XciQntfNQ"
      },
      "source": [
        "*The derivative of a complex function*"
      ]
    },
    {
      "cell_type": "code",
      "execution_count": 19,
      "metadata": {
        "colab": {
          "base_uri": "https://localhost:8080/",
          "height": 60
        },
        "id": "v6o4vzTKtfNQ",
        "outputId": "a1805304-f25b-4f55-cce3-60628a509bdf"
      },
      "outputs": [
        {
          "output_type": "execute_result",
          "data": {
            "text/plain": [
              "(-tan(x + 10)**2 - 1)*sin(x - 2)/tan(x + 10)**2 + cos(x - 2)/tan(x + 10)"
            ],
            "text/latex": "$\\displaystyle \\frac{\\left(- \\tan^{2}{\\left(x + 10 \\right)} - 1\\right) \\sin{\\left(x - 2 \\right)}}{\\tan^{2}{\\left(x + 10 \\right)}} + \\frac{\\cos{\\left(x - 2 \\right)}}{\\tan{\\left(x + 10 \\right)}}$"
          },
          "metadata": {},
          "execution_count": 19
        }
      ],
      "source": [
        "diff(expr_multiplex, x)"
      ]
    },
    {
      "cell_type": "markdown",
      "metadata": {
        "id": "nE4Zux8ZtfNQ"
      },
      "source": [
        "## 5. Finding the partial derivative\n"
      ]
    },
    {
      "cell_type": "markdown",
      "metadata": {
        "id": "J_dPGO2QtfNQ"
      },
      "source": [
        "Function"
      ]
    },
    {
      "cell_type": "code",
      "execution_count": 20,
      "metadata": {
        "id": "RQ9k2YCBtfNR"
      },
      "outputs": [],
      "source": [
        "def two_params_def(x, y):\n",
        "    return 2*x**2*y**3 + 3*x + 5*y - 7"
      ]
    },
    {
      "cell_type": "code",
      "execution_count": 21,
      "metadata": {
        "colab": {
          "base_uri": "https://localhost:8080/",
          "height": 39
        },
        "id": "7Nd1e1n2tfNR",
        "outputId": "34b042aa-edc8-4d66-a4dc-397dbb9212ba"
      },
      "outputs": [
        {
          "output_type": "execute_result",
          "data": {
            "text/plain": [
              "2*x**2*y**3 + 3*x + 5*y - 7"
            ],
            "text/latex": "$\\displaystyle 2 x^{2} y^{3} + 3 x + 5 y - 7$"
          },
          "metadata": {},
          "execution_count": 21
        }
      ],
      "source": [
        "x, y = symbols('x y')\n",
        "expr_two_params = two_params_def(x, y)\n",
        "\n",
        "expr_two_params"
      ]
    },
    {
      "cell_type": "markdown",
      "metadata": {
        "id": "hvj-ZV3ttfNR"
      },
      "source": [
        "The derivative on **x**"
      ]
    },
    {
      "cell_type": "code",
      "execution_count": 22,
      "metadata": {
        "colab": {
          "base_uri": "https://localhost:8080/",
          "height": 39
        },
        "id": "lwmLRLo0tfNR",
        "outputId": "e9559c05-2c24-49f8-b932-f160bbbed97b"
      },
      "outputs": [
        {
          "output_type": "execute_result",
          "data": {
            "text/plain": [
              "4*x*y**3 + 3"
            ],
            "text/latex": "$\\displaystyle 4 x y^{3} + 3$"
          },
          "metadata": {},
          "execution_count": 22
        }
      ],
      "source": [
        "diff(expr_two_params, x)"
      ]
    },
    {
      "cell_type": "markdown",
      "metadata": {
        "id": "bxGdy8qAtfNS"
      },
      "source": [
        "The derivative on **y**"
      ]
    },
    {
      "cell_type": "code",
      "execution_count": 23,
      "metadata": {
        "colab": {
          "base_uri": "https://localhost:8080/",
          "height": 39
        },
        "id": "fKeoLfPntfNS",
        "outputId": "99d207d5-2852-4967-dafb-6523bb7122ff"
      },
      "outputs": [
        {
          "output_type": "execute_result",
          "data": {
            "text/plain": [
              "6*x**2*y**2 + 5"
            ],
            "text/latex": "$\\displaystyle 6 x^{2} y^{2} + 5$"
          },
          "metadata": {},
          "execution_count": 23
        }
      ],
      "source": [
        "diff(expr_two_params, y)"
      ]
    },
    {
      "cell_type": "markdown",
      "metadata": {
        "id": "HnEK0F7dtfNS"
      },
      "source": [
        "Second derivative on **x**"
      ]
    },
    {
      "cell_type": "code",
      "execution_count": 24,
      "metadata": {
        "colab": {
          "base_uri": "https://localhost:8080/",
          "height": 39
        },
        "id": "Z5guw8dPtfNS",
        "outputId": "5675a48b-6fa8-4279-cab2-aa9536e66449"
      },
      "outputs": [
        {
          "output_type": "execute_result",
          "data": {
            "text/plain": [
              "4*y**3"
            ],
            "text/latex": "$\\displaystyle 4 y^{3}$"
          },
          "metadata": {},
          "execution_count": 24
        }
      ],
      "source": [
        "diff(expr_two_params, x, 2)"
      ]
    },
    {
      "cell_type": "markdown",
      "metadata": {
        "id": "qhHd6XHktfNT"
      },
      "source": [
        "Second derivative on **y**"
      ]
    },
    {
      "cell_type": "code",
      "execution_count": 25,
      "metadata": {
        "colab": {
          "base_uri": "https://localhost:8080/",
          "height": 39
        },
        "id": "nbZlCdDOtfNT",
        "outputId": "04198957-a9e3-41e5-e11f-8355c591feb3"
      },
      "outputs": [
        {
          "output_type": "execute_result",
          "data": {
            "text/plain": [
              "12*x**2*y"
            ],
            "text/latex": "$\\displaystyle 12 x^{2} y$"
          },
          "metadata": {},
          "execution_count": 25
        }
      ],
      "source": [
        "diff(expr_two_params, y, 2)"
      ]
    },
    {
      "cell_type": "markdown",
      "metadata": {
        "id": "G7SadUqstfNT"
      },
      "source": [
        "Mixed derivative **x** by ***y***"
      ]
    },
    {
      "cell_type": "code",
      "execution_count": 26,
      "metadata": {
        "colab": {
          "base_uri": "https://localhost:8080/",
          "height": 39
        },
        "id": "i-KtKxPAtfNU",
        "outputId": "150d8abf-309a-415e-8b72-99a91c967213"
      },
      "outputs": [
        {
          "output_type": "execute_result",
          "data": {
            "text/plain": [
              "12*x*y**2"
            ],
            "text/latex": "$\\displaystyle 12 x y^{2}$"
          },
          "metadata": {},
          "execution_count": 26
        }
      ],
      "source": [
        "diff(diff(expr_two_params, x), y)"
      ]
    },
    {
      "cell_type": "markdown",
      "metadata": {
        "id": "1dW_NWFptfNU"
      },
      "source": [
        "Mixed derivative **y** by **x**"
      ]
    },
    {
      "cell_type": "code",
      "execution_count": 27,
      "metadata": {
        "colab": {
          "base_uri": "https://localhost:8080/",
          "height": 39
        },
        "id": "fOIymbU-tfNU",
        "outputId": "76c19912-ffee-4cda-ebf9-db77cf3552f5"
      },
      "outputs": [
        {
          "output_type": "execute_result",
          "data": {
            "text/plain": [
              "12*x*y**2"
            ],
            "text/latex": "$\\displaystyle 12 x y^{2}$"
          },
          "metadata": {},
          "execution_count": 27
        }
      ],
      "source": [
        "diff(diff(expr_two_params, y), x)"
      ]
    },
    {
      "cell_type": "markdown",
      "metadata": {
        "id": "bSmxkGFwtfNV"
      },
      "source": [
        "## 6. Calculation of the gradient"
      ]
    },
    {
      "cell_type": "markdown",
      "metadata": {
        "id": "lpQVJm_stfNV"
      },
      "source": [
        "Function"
      ]
    },
    {
      "cell_type": "code",
      "execution_count": 28,
      "metadata": {
        "colab": {
          "base_uri": "https://localhost:8080/",
          "height": 39
        },
        "id": "VNnIVoxLtfNV",
        "outputId": "66ce811b-c312-4df0-b400-f0d83c8b6c88"
      },
      "outputs": [
        {
          "output_type": "execute_result",
          "data": {
            "text/plain": [
              "2*x**2*y**3 + 3*x + 5*y - 7"
            ],
            "text/latex": "$\\displaystyle 2 x^{2} y^{3} + 3 x + 5 y - 7$"
          },
          "metadata": {},
          "execution_count": 28
        }
      ],
      "source": [
        "expr_two_params"
      ]
    },
    {
      "cell_type": "markdown",
      "metadata": {
        "id": "4XwzVYAYtfNV"
      },
      "source": [
        "*Gradient*"
      ]
    },
    {
      "cell_type": "code",
      "execution_count": 29,
      "metadata": {
        "colab": {
          "base_uri": "https://localhost:8080/"
        },
        "id": "PdZU9JfBtfNW",
        "outputId": "004cbcca-960a-4409-dd55-50039d0415be"
      },
      "outputs": [
        {
          "output_type": "execute_result",
          "data": {
            "text/plain": [
              "array([566.846, 500.781, 380.986, 284.219, 207.314, 147.344, 101.611,\n",
              "        67.656,  43.252,  26.406,  15.361,   8.594,   4.814,   2.969,\n",
              "         2.236,   2.031,   2.002,   2.031,   2.236,   2.969,   4.814,\n",
              "         8.594,  15.361,  26.406,  43.252,  67.656, 101.611, 147.344,\n",
              "       207.314, 284.219, 380.986, 500.781, 566.846])"
            ]
          },
          "metadata": {},
          "execution_count": 29
        }
      ],
      "source": [
        "x = np.linspace(-4, 4, 33)\n",
        "y = np.linspace(-4, 4, 33)\n",
        "\n",
        "np.gradient(two_params_def(x, y)).round(3)"
      ]
    },
    {
      "cell_type": "markdown",
      "metadata": {
        "id": "SE_0KYOQtfNW"
      },
      "source": [
        "## 7. Visualizing a function of several variables"
      ]
    },
    {
      "cell_type": "markdown",
      "metadata": {
        "id": "gnbRH44rtfNW"
      },
      "source": [
        "*Function of several variables*"
      ]
    },
    {
      "cell_type": "code",
      "execution_count": 30,
      "metadata": {
        "colab": {
          "base_uri": "https://localhost:8080/",
          "height": 39
        },
        "id": "ljwyW_H9tfNW",
        "outputId": "2483ba57-a745-45a6-facf-da4b2ec1de5e"
      },
      "outputs": [
        {
          "output_type": "execute_result",
          "data": {
            "text/plain": [
              "2*x**2*y**3 + 3*x + 5*y - 7"
            ],
            "text/latex": "$\\displaystyle 2 x^{2} y^{3} + 3 x + 5 y - 7$"
          },
          "metadata": {},
          "execution_count": 30
        }
      ],
      "source": [
        "expr_two_params"
      ]
    },
    {
      "cell_type": "markdown",
      "metadata": {
        "id": "ynuy7_31tfNX"
      },
      "source": [
        "*Vizualization*"
      ]
    },
    {
      "cell_type": "code",
      "execution_count": 31,
      "metadata": {
        "colab": {
          "base_uri": "https://localhost:8080/",
          "height": 254
        },
        "id": "1rUd6pW9tfNX",
        "outputId": "b10eb64b-c5bd-4842-df25-18b6ed5dc7a3"
      },
      "outputs": [
        {
          "output_type": "display_data",
          "data": {
            "text/plain": [
              "<Figure size 576x288 with 1 Axes>"
            ],
            "image/png": "[encoded data removed]"
          },
          "metadata": {
            "needs_background": "light"
          }
        }
      ],
      "source": [
        "from mpl_toolkits.mplot3d import Axes3D\n",
        "\n",
        "fig = plt.figure(figsize=(8,4))\n",
        "ax = fig.gca(projection='3d')\n",
        "\n",
        "x = np.linspace(-4, 4, 33)\n",
        "y = np.linspace(-4, 4, 33)\n",
        "x, y = np.meshgrid(x, y)\n",
        "z = two_params_def(x, y)\n",
        "\n",
        "surf = ax.plot_surface(x, y, z)\n",
        "\n",
        "ax.set_xlabel('x', fontsize=14)\n",
        "ax.set_ylabel('y', fontsize=14)\n",
        "ax.set_zlabel('z', fontsize=14)\n",
        "plt.title(r'Graph of $z=' + latex(expr_two_params) +'$', fontsize = 16)\n",
        "plt.show()"
      ]
    }
  ],
  "metadata": {
    "kernelspec": {
      "display_name": "Python 3",
      "language": "python",
      "name": "python3"
    },
    "language_info": {
      "codemirror_mode": {
        "name": "ipython",
        "version": 3
      },
      "file_extension": ".py",
      "mimetype": "text/x-python",
      "name": "python",
      "nbconvert_exporter": "python",
      "pygments_lexer": "ipython3",
      "version": "3.7.6"
    },
    "colab": {
      "name": "Working with functions (simple).ipynb",
      "provenance": [],
      "collapsed_sections": []
    }
  },
  "nbformat": 4,
  "nbformat_minor": 0
}