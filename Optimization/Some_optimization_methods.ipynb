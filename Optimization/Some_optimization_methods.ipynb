{
  "cells": [
    {
      "cell_type": "markdown",
      "source": [
        "From: A.K."
      ],
      "metadata": {
        "id": "Buj4QN_nD9oF"
      }
    },
    {
      "cell_type": "markdown",
      "source": [
        "# Some optimization methods\n",
        "\n",
        "1. Gradient descent method in Python\n",
        "\n",
        "2. Implementation of the simulated annealing method in Python\n",
        "\n",
        "3. Implementation of differential evolution algorithm in Python\n",
        "\n",
        "4. Implementation of the Nelder-Mead method in Python"
      ],
      "metadata": {
        "id": "7aowqtUKEYwo"
      }
    },
    {
      "cell_type": "markdown",
      "metadata": {
        "id": "4GPBoq49D12J"
      },
      "source": [
        "## 1. Gradient descent method in Python\n"
      ]
    },
    {
      "cell_type": "code",
      "execution_count": 1,
      "metadata": {
        "colab": {
          "base_uri": "https://localhost:8080/",
          "height": 550
        },
        "id": "tBO9xtxlD12Q",
        "outputId": "38836f3c-8caf-4124-adfd-4d59591fa32b"
      },
      "outputs": [
        {
          "output_type": "display_data",
          "data": {
            "text/plain": [
              "<Figure size 432x288 with 1 Axes>"
            ],
            "image/png": "[encoded data removed]"
          },
          "metadata": {
            "needs_background": "light"
          }
        },
        {
          "output_type": "display_data",
          "data": {
            "text/plain": [
              "<Figure size 432x288 with 1 Axes>"
            ],
            "image/png": "[encoded data removed]"
          },
          "metadata": {
            "needs_background": "light"
          }
        },
        {
          "output_type": "stream",
          "name": "stdout",
          "text": [
            "мин. Х = 4.981110534068522\n",
            "мин. Y = 0.000356811923176468\n"
          ]
        }
      ],
      "source": [
        "from scipy.misc import derivative\n",
        "\n",
        "%matplotlib inline\n",
        "from matplotlib import pylab as plt\n",
        "import scipy as sp\n",
        "import numpy as np\n",
        "import math\n",
        "import scipy.optimize as opt\n",
        "\n",
        "# define a function\n",
        "def f(x):\n",
        "    return (x-5)**2\n",
        "\n",
        "# Checking to see if we can find f'(x)\n",
        "derivative(f, 0)\n",
        "\n",
        "# Draw the graph of the function\n",
        "x = range(-5,15)\n",
        "y = [f(xn) for xn in x]\n",
        "plt.plot(x, y)\n",
        "plt.show()\n",
        "\n",
        "# preparation for gradient descent\n",
        "\n",
        "# initial value\n",
        "xn = 0 \n",
        "yn = f(xn)\n",
        "\n",
        "# create a dictionary where we will store all found function values\n",
        "Y = {xn: yn}\n",
        "\n",
        "# step\n",
        "step = 0.1\n",
        "\n",
        "# using the gradient descent formula we obtain all the values of x y\n",
        "for _ in range(25):\n",
        "    xn = xn - step*derivative(f, xn)\n",
        "    yn = f(xn)\n",
        "    Y[xn] = yn\n",
        "    \n",
        "# put the found points on the graph\n",
        "plt.plot(list(Y.keys()), list(Y.values()), 'ro')\n",
        "plt.show()\n",
        "\n",
        "X = {}\n",
        "for i in range(len(Y)):\n",
        "    X[list(Y.values())[i]] = list(Y.keys())[i]\n",
        "\n",
        "# display the pair of minimal X and Y (close to minima) we are looking for\n",
        "print ('мин. Х =', min(X.items())[1])\n",
        "print ('мин. Y =', min(X.items())[0])"
      ]
    },
    {
      "cell_type": "markdown",
      "metadata": {
        "id": "bF2ikHBhD12W"
      },
      "source": [
        "## 2. Implementation of the simulated annealing method in Python"
      ]
    },
    {
      "cell_type": "code",
      "execution_count": 2,
      "metadata": {
        "colab": {
          "base_uri": "https://localhost:8080/"
        },
        "id": "ThkN00UzD12X",
        "outputId": "592e73d9-2772-424c-cb61-74d40e50d7fe"
      },
      "outputs": [
        {
          "output_type": "stream",
          "name": "stdout",
          "text": [
            "22.24892873393609\n"
          ]
        }
      ],
      "source": [
        "def Ef(x):\n",
        "    return (x+5)**2\n",
        "\n",
        "def Pf(_e_old, _e_new, _t):\n",
        "    return 1. / (1 + math.exp((_e_new - _e_old) / max(0.1, _t)))\n",
        "\n",
        "def anneal(E, s0, k_max, P):\n",
        "    s = s0\n",
        "    k = 0\n",
        "    while k <= k_max:\n",
        "        T = k / k_max\n",
        "        s_new = s + 1\n",
        "        e_old = E(s)\n",
        "        e_new = E(s_new)\n",
        "        if P(e_old, e_new, T) >= np.random.random():\n",
        "            s = s_new\n",
        "        k += 1\n",
        "\n",
        "    return s\n",
        "\n",
        "print(anneal(Ef, np.random.uniform(0, 25), 100, Pf))"
      ]
    },
    {
      "cell_type": "markdown",
      "metadata": {
        "id": "EWk1Vch3D12Y"
      },
      "source": [
        "## 3. Implementation of differential evolution algorithm in Python"
      ]
    },
    {
      "cell_type": "code",
      "execution_count": 3,
      "metadata": {
        "colab": {
          "base_uri": "https://localhost:8080/"
        },
        "id": "33xVAeVhD12Z",
        "outputId": "759b1662-5b53-4bbc-fc17-10d556a0d8c0"
      },
      "outputs": [
        {
          "output_type": "execute_result",
          "data": {
            "text/plain": [
              "     fun: 4.440892098500626e-16\n",
              " message: 'Optimization terminated successfully.'\n",
              "    nfev: 3003\n",
              "     nit: 97\n",
              " success: True\n",
              "       x: array([0., 0.])"
            ]
          },
          "metadata": {},
          "execution_count": 3
        }
      ],
      "source": [
        "def ackley(x):\n",
        "    arg1 = -0.2 * np.sqrt(0.5 * (x[0] ** 2 + x[1] ** 2))\n",
        "    arg2 = 0.5 * (np.cos(2. * np.pi * x[0]) + np.cos(2. * np.pi * x[1]))\n",
        "    return -20. * np.exp(arg1) - np.exp(arg2) + 20. + np.e\n",
        "\n",
        "bounds = [(-5, 5), (-5, 5)]\n",
        "opt.differential_evolution(ackley, bounds)"
      ]
    },
    {
      "cell_type": "markdown",
      "metadata": {
        "id": "ipxb9V4YD12a"
      },
      "source": [
        "## 4. Implementation of the Nelder-Mead method in Python"
      ]
    },
    {
      "cell_type": "code",
      "execution_count": 4,
      "metadata": {
        "colab": {
          "base_uri": "https://localhost:8080/"
        },
        "id": "gp8q2GIYD12c",
        "outputId": "455e8d50-70e1-4de1-a77b-2a49574ce067"
      },
      "outputs": [
        {
          "output_type": "stream",
          "name": "stdout",
          "text": [
            "Optimization terminated successfully.\n",
            "         Current function value: 0.000000\n",
            "         Iterations: 143\n",
            "         Function evaluations: 269\n",
            " final_simplex: (array([[1.00000132, 1.0000028 ],\n",
            "       [1.00000014, 0.99999997],\n",
            "       [0.99999681, 0.99999355]]), array([4.38559817e-12, 9.00569749e-12, 1.05977059e-11]))\n",
            "           fun: 4.385598172677925e-12\n",
            "       message: 'Optimization terminated successfully.'\n",
            "          nfev: 269\n",
            "           nit: 143\n",
            "        status: 0\n",
            "       success: True\n",
            "             x: array([1.00000132, 1.0000028 ])\n"
          ]
        }
      ],
      "source": [
        "def Rosenbrock(X):\n",
        "    return (1.0 - X[0])**2 + 100.0_8 * (X[1] - X[0] * X[0] )**2\n",
        "\n",
        "n = 2\n",
        "x0 = np.zeros(2, dtype = float) # Vector with two elements of type float\n",
        "# Initial point for finding the minimum of a function\n",
        "x0[0] = -5.0\n",
        "x0[1] = 10.0\n",
        "xtol = 1.0e-5 # Accuracy of extremum search\n",
        "# Find the minimum of the function\n",
        "res = opt.minimize(Rosenbrock, x0, method = 'Nelder-Mead', options = {'xtol': xtol, 'disp': True})\n",
        "print(res)"
      ]
    }
  ],
  "metadata": {
    "kernelspec": {
      "display_name": "Python 3",
      "language": "python",
      "name": "python3"
    },
    "language_info": {
      "codemirror_mode": {
        "name": "ipython",
        "version": 3
      },
      "file_extension": ".py",
      "mimetype": "text/x-python",
      "name": "python",
      "nbconvert_exporter": "python",
      "pygments_lexer": "ipython3",
      "version": "3.7.6"
    },
    "colab": {
      "name": "Some optimization methods.ipynb",
      "provenance": [],
      "collapsed_sections": []
    }
  },
  "nbformat": 4,
  "nbformat_minor": 0
}