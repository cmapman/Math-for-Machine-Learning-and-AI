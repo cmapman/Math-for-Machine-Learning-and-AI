{
  "cells": [
    {
      "cell_type": "markdown",
      "metadata": {
        "id": "Lli_i5YR5HTr"
      },
      "source": [
        "From: A.K."
      ]
    },
    {
      "cell_type": "markdown",
      "metadata": {
        "id": "IKFeQlbo5HTy"
      },
      "source": [
        "# Basics of Linear Algebra\n",
        "\n",
        "1. Defining a vector in Python\n",
        "\n",
        "2. The norm of vectors\n",
        "\n",
        "3. Calculating metrics (Euclidean, Manhattan, etc.)\n",
        "\n",
        "4. Scalar product of vectors\n",
        "\n",
        "5. Defining a matrix in Python\n",
        "\n",
        "6. Operations on matrices\n",
        "\n",
        "7. Finding a matrix determinant\n",
        "\n",
        "8. Defining a system of linear equations in Python\n",
        "\n",
        "9. Finding an inverse matrix\n",
        "\n",
        "10. Singular decomposition of matrices"
      ]
    },
    {
      "cell_type": "code",
      "execution_count": 1,
      "metadata": {
        "id": "AXHglcc85HT2"
      },
      "outputs": [],
      "source": [
        "import numpy as np"
      ]
    },
    {
      "cell_type": "markdown",
      "metadata": {
        "id": "MEPFOZVJ5HT4"
      },
      "source": [
        "## 1. Defining a vector in Python\n"
      ]
    },
    {
      "cell_type": "markdown",
      "metadata": {
        "id": "6x6huvlR5HT4"
      },
      "source": [
        "A vector (one-dimensional array) can be specified using the ***linspace*** function"
      ]
    },
    {
      "cell_type": "code",
      "execution_count": 2,
      "metadata": {
        "colab": {
          "base_uri": "https://localhost:8080/"
        },
        "id": "5izmlTOA5HT5",
        "outputId": "1f03e892-fd72-4dab-c1f9-10104236448c"
      },
      "outputs": [
        {
          "output_type": "execute_result",
          "data": {
            "text/plain": [
              "array([-2.  , -1.75, -1.5 , -1.25, -1.  , -0.75, -0.5 , -0.25,  0.  ,\n",
              "        0.25,  0.5 ,  0.75,  1.  ,  1.25,  1.5 ,  1.75,  2.  ])"
            ]
          },
          "metadata": {},
          "execution_count": 2
        }
      ],
      "source": [
        "vectorA = np.linspace(-2, 2, 17)\n",
        "\n",
        "vectorA"
      ]
    },
    {
      "cell_type": "markdown",
      "metadata": {
        "id": "JCTLaNyO5HT7"
      },
      "source": [
        "*You can also set the vector directly*"
      ]
    },
    {
      "cell_type": "code",
      "execution_count": 3,
      "metadata": {
        "colab": {
          "base_uri": "https://localhost:8080/"
        },
        "id": "gG1HcJmm5HT8",
        "outputId": "1dcf2396-ebab-4961-c97a-b08f5350b4ba"
      },
      "outputs": [
        {
          "output_type": "execute_result",
          "data": {
            "text/plain": [
              "array([-2.5 ,  1.5 ,  0.3 , -4.2 ,  0.25, -0.15,  3.4 ,  5.3 ,  0.3 ,\n",
              "        5.4 , -3.2 , -1.3 ,  2.5 ,  1.  , -2.  ,  0.8 , -1.5 ])"
            ]
          },
          "metadata": {},
          "execution_count": 3
        }
      ],
      "source": [
        "vectorB = np.array([-2.5, 1.5, 0.3, -4.2, 0.25, -0.15, 3.4, 5.3, 0.3, 5.4, -3.2, -1.3, 2.5, 1, -2, 0.8, -1.5], float);\n",
        "\n",
        "vectorB"
      ]
    },
    {
      "cell_type": "markdown",
      "metadata": {
        "id": "0ho7W45N5HT9"
      },
      "source": [
        "## 2&4. The norm and Scalar product of vectors\n"
      ]
    },
    {
      "cell_type": "markdown",
      "metadata": {
        "id": "-FtULhgT5HT-"
      },
      "source": [
        "*Euclidean norm of the vector* ***A***"
      ]
    },
    {
      "cell_type": "code",
      "execution_count": 4,
      "metadata": {
        "colab": {
          "base_uri": "https://localhost:8080/"
        },
        "id": "TywceXCh5HT-",
        "outputId": "5c62e76b-239e-444d-a276-f73963fea457"
      },
      "outputs": [
        {
          "output_type": "execute_result",
          "data": {
            "text/plain": [
              "5.05"
            ]
          },
          "metadata": {},
          "execution_count": 4
        }
      ],
      "source": [
        "round(np.linalg.norm(vectorA), 2)"
      ]
    },
    {
      "cell_type": "markdown",
      "metadata": {
        "id": "DBM0vRSP5HT_"
      },
      "source": [
        "*Euclidean norm of the vector* ***B***"
      ]
    },
    {
      "cell_type": "code",
      "execution_count": 5,
      "metadata": {
        "colab": {
          "base_uri": "https://localhost:8080/"
        },
        "id": "gTNsbF7y5HUA",
        "outputId": "1a64b82a-c8e6-4650-c4a2-c672f0690f9c"
      },
      "outputs": [
        {
          "output_type": "execute_result",
          "data": {
            "text/plain": [
              "11.01"
            ]
          },
          "metadata": {},
          "execution_count": 5
        }
      ],
      "source": [
        "round(np.linalg.norm(vectorB), 2)"
      ]
    },
    {
      "cell_type": "markdown",
      "metadata": {
        "id": "krp6d_z45HUA"
      },
      "source": [
        "*Manhattan norm of the vector* ***A***"
      ]
    },
    {
      "cell_type": "code",
      "execution_count": 6,
      "metadata": {
        "colab": {
          "base_uri": "https://localhost:8080/"
        },
        "id": "Hvdpk57i5HUB",
        "outputId": "6004292e-ac27-4d17-d196-60704479a947"
      },
      "outputs": [
        {
          "output_type": "execute_result",
          "data": {
            "text/plain": [
              "18.0"
            ]
          },
          "metadata": {},
          "execution_count": 6
        }
      ],
      "source": [
        "round(np.linalg.norm(vectorA, ord = 1), 2)"
      ]
    },
    {
      "cell_type": "markdown",
      "metadata": {
        "id": "BnQNhH3y5HUB"
      },
      "source": [
        "*Manhattan norm of the vector* ***B***"
      ]
    },
    {
      "cell_type": "code",
      "execution_count": 7,
      "metadata": {
        "colab": {
          "base_uri": "https://localhost:8080/"
        },
        "id": "KB3sO9sW5HUC",
        "outputId": "58dfc2ae-8400-4c41-8fc7-71d70994f907"
      },
      "outputs": [
        {
          "output_type": "execute_result",
          "data": {
            "text/plain": [
              "35.6"
            ]
          },
          "metadata": {},
          "execution_count": 7
        }
      ],
      "source": [
        "round(np.linalg.norm(vectorB, ord = 1), 2)"
      ]
    },
    {
      "cell_type": "markdown",
      "metadata": {
        "id": "23ExVRTF5HUC"
      },
      "source": [
        "*Scalar product of vectors* ***A*** *and* ***B***"
      ]
    },
    {
      "cell_type": "code",
      "execution_count": 8,
      "metadata": {
        "colab": {
          "base_uri": "https://localhost:8080/"
        },
        "id": "I4YvLPBR5HUD",
        "outputId": "3109f4a9-ab41-4c83-de29-052c270ca89d"
      },
      "outputs": [
        {
          "output_type": "execute_result",
          "data": {
            "text/plain": [
              "1.94"
            ]
          },
          "metadata": {},
          "execution_count": 8
        }
      ],
      "source": [
        "round(np.dot(vectorA, vectorB), 2)"
      ]
    },
    {
      "cell_type": "markdown",
      "metadata": {
        "id": "pbIgaKRV5HUD"
      },
      "source": [
        "## 3. Calculating metrics (Euclidean, Manhattan, etc.)\n"
      ]
    },
    {
      "cell_type": "markdown",
      "metadata": {
        "id": "j9nCds_J5HUE"
      },
      "source": [
        "*Manhattan Metric*"
      ]
    },
    {
      "cell_type": "code",
      "execution_count": 9,
      "metadata": {
        "colab": {
          "base_uri": "https://localhost:8080/"
        },
        "id": "ELgXEpgK5HUE",
        "outputId": "d59c5304-52df-4fed-be9d-967fb6d65855"
      },
      "outputs": [
        {
          "output_type": "execute_result",
          "data": {
            "text/plain": [
              "40.7"
            ]
          },
          "metadata": {},
          "execution_count": 9
        }
      ],
      "source": [
        "round(np.linalg.norm(vectorA - vectorB, ord = 1), 2)"
      ]
    },
    {
      "cell_type": "markdown",
      "metadata": {
        "id": "jLU1sBqD5HUF"
      },
      "source": [
        "*Euclidean metric*"
      ]
    },
    {
      "cell_type": "code",
      "execution_count": 10,
      "metadata": {
        "colab": {
          "base_uri": "https://localhost:8080/"
        },
        "id": "8Ixuo7Gm5HUF",
        "outputId": "aebe6c6c-4e44-4a25-e047-c3bfd80695ff"
      },
      "outputs": [
        {
          "output_type": "execute_result",
          "data": {
            "text/plain": [
              "11.95"
            ]
          },
          "metadata": {},
          "execution_count": 10
        }
      ],
      "source": [
        "round(np.linalg.norm(vectorA - vectorB), 2)"
      ]
    },
    {
      "cell_type": "markdown",
      "metadata": {
        "id": "UWGBefOk5HUF"
      },
      "source": [
        "*Other metrics*"
      ]
    },
    {
      "cell_type": "code",
      "execution_count": 11,
      "metadata": {
        "colab": {
          "base_uri": "https://localhost:8080/"
        },
        "id": "cOhFPq-L5HUG",
        "outputId": "9bbbb94b-e904-4e65-8ebd-bd668ede45dc"
      },
      "outputs": [
        {
          "output_type": "execute_result",
          "data": {
            "text/plain": [
              "5.55"
            ]
          },
          "metadata": {},
          "execution_count": 11
        }
      ],
      "source": [
        "round(np.linalg.norm(vectorA - vectorB, ord = np.inf), 2)"
      ]
    },
    {
      "cell_type": "code",
      "execution_count": 12,
      "metadata": {
        "colab": {
          "base_uri": "https://localhost:8080/"
        },
        "id": "cR5z8ZY75HUG",
        "outputId": "2000e758-e28f-4f2d-af85-52fb10c93bf8"
      },
      "outputs": [
        {
          "output_type": "execute_result",
          "data": {
            "text/plain": [
              "0.25"
            ]
          },
          "metadata": {},
          "execution_count": 12
        }
      ],
      "source": [
        "round(np.linalg.norm(vectorA - vectorB, ord = -np.inf), 2)"
      ]
    },
    {
      "cell_type": "code",
      "execution_count": 13,
      "metadata": {
        "colab": {
          "base_uri": "https://localhost:8080/"
        },
        "id": "GeOX7QTQ5HUH",
        "outputId": "18c7ae02-192b-4a3e-a0b2-d13414907b14"
      },
      "outputs": [
        {
          "output_type": "execute_result",
          "data": {
            "text/plain": [
              "17.0"
            ]
          },
          "metadata": {},
          "execution_count": 13
        }
      ],
      "source": [
        "round(np.linalg.norm(vectorA - vectorB, ord = 0), 2)"
      ]
    },
    {
      "cell_type": "code",
      "source": [
        "vector = np.array([3, 1, 5])\n",
        "vector2 = np.array([2, 1, 1])\n",
        "\n",
        "# Minkowski norm\n",
        "\n",
        "def minkowski(a, b, p=2):\n",
        "    assert len(a) == len(b), \"'a' and 'b' must be of the same length\"\n",
        "    return pow(sum((abs(x-y)**p) for x,y in zip(a,b)), 1/p)\n",
        "print('The Minkowski norm for two vectors:', minkowski(vector, vector2))"
      ],
      "metadata": {
        "colab": {
          "base_uri": "https://localhost:8080/"
        },
        "id": "g-dHoJwe_4N5",
        "outputId": "f2c37881-7019-4f4d-faeb-26b69e29556c"
      },
      "execution_count": 49,
      "outputs": [
        {
          "output_type": "stream",
          "name": "stdout",
          "text": [
            "The Minkowski norm for two vectors: 4.123105625617661\n"
          ]
        }
      ]
    },
    {
      "cell_type": "code",
      "source": [
        "# Levenshtein distance\n",
        "def distance(a, b):\n",
        "    n, m = len(a), len(b)\n",
        "    if n > m:\n",
        "        a, b = b, a\n",
        "        n, m = m, n\n",
        "\n",
        "    current_row = range(n + 1)\n",
        "    for i in range(1, m + 1):\n",
        "        previous_row, current_row = current_row, [i] + [0] * n\n",
        "        for j in range(1, n + 1):\n",
        "            add, delete, change = previous_row[j] + 1, current_row[j - 1] + 1, previous_row[j - 1]\n",
        "            if a[j - 1] != b[i - 1]:\n",
        "                change += 1\n",
        "            current_row[j] = min(add, delete, change)\n",
        "\n",
        "    return current_row[n]\n",
        "\n",
        "print('Levenstein distance for two vectors:', distance(vector, vector2))"
      ],
      "metadata": {
        "colab": {
          "base_uri": "https://localhost:8080/"
        },
        "id": "9T4xGTTiAmpS",
        "outputId": "b970bc71-20bd-44ec-9f95-c895735a826e"
      },
      "execution_count": 50,
      "outputs": [
        {
          "output_type": "stream",
          "name": "stdout",
          "text": [
            "Levenstein distance for two vectors: 2\n"
          ]
        }
      ]
    },
    {
      "cell_type": "markdown",
      "metadata": {
        "id": "dvsqmy1P5HUH"
      },
      "source": [
        "## 5. Defining a matrix in Python"
      ]
    },
    {
      "cell_type": "markdown",
      "metadata": {
        "id": "v7KZuEKm5HUH"
      },
      "source": [
        "*A matrix (two-dimensional array) can be created as follows:*"
      ]
    },
    {
      "cell_type": "code",
      "execution_count": 14,
      "metadata": {
        "colab": {
          "base_uri": "https://localhost:8080/"
        },
        "id": "Ru6jVusS5HUH",
        "outputId": "932dba3e-31c4-4f88-efb6-08c36361dcf8"
      },
      "outputs": [
        {
          "output_type": "execute_result",
          "data": {
            "text/plain": [
              "matrix([[-2,  5,  3],\n",
              "        [-1,  3,  4],\n",
              "        [-7,  2,  1]])"
            ]
          },
          "metadata": {},
          "execution_count": 14
        }
      ],
      "source": [
        "matrixA = np.matrix([[-2, 5, 3], [-1, 3, 4],[-7, 2, 1]])\n",
        "\n",
        "matrixA"
      ]
    },
    {
      "cell_type": "markdown",
      "metadata": {
        "id": "rbohVJgq5HUI"
      },
      "source": [
        "*You can also do this*"
      ]
    },
    {
      "cell_type": "code",
      "execution_count": 15,
      "metadata": {
        "colab": {
          "base_uri": "https://localhost:8080/"
        },
        "id": "dQCt0nmp5HUI",
        "outputId": "16de38ca-eb5c-4777-f055-67ba86ae0be5"
      },
      "outputs": [
        {
          "output_type": "execute_result",
          "data": {
            "text/plain": [
              "matrix([[ 7,  2,  3],\n",
              "        [-3,  5,  7],\n",
              "        [-1,  2,  5]])"
            ]
          },
          "metadata": {},
          "execution_count": 15
        }
      ],
      "source": [
        "matrixB = np.matrix('7 2 3; -3 5 7; -1 2 5')\n",
        "\n",
        "matrixB"
      ]
    },
    {
      "cell_type": "code",
      "execution_count": 16,
      "metadata": {
        "colab": {
          "base_uri": "https://localhost:8080/"
        },
        "id": "9WN8Erzu5HUJ",
        "outputId": "2b2501e1-8b56-4509-adff-a9ba2bca72f0"
      },
      "outputs": [
        {
          "output_type": "execute_result",
          "data": {
            "text/plain": [
              "matrix([[3, 2, 3],\n",
              "        [2, 5, 4]])"
            ]
          },
          "metadata": {},
          "execution_count": 16
        }
      ],
      "source": [
        "matrixC = np.matrix('3 2 3; 2 5 4')\n",
        "\n",
        "matrixC"
      ]
    },
    {
      "cell_type": "markdown",
      "metadata": {
        "id": "A73yRRjF5HUJ"
      },
      "source": [
        "## 6. Operations on matrices"
      ]
    },
    {
      "cell_type": "markdown",
      "metadata": {
        "id": "bQWwNzAF5HUJ"
      },
      "source": [
        "*Matrix Addition*"
      ]
    },
    {
      "cell_type": "code",
      "execution_count": 17,
      "metadata": {
        "colab": {
          "base_uri": "https://localhost:8080/"
        },
        "id": "iU4F54kN5HUK",
        "outputId": "8be09567-647c-4dca-a6d1-2d28757ad8af"
      },
      "outputs": [
        {
          "output_type": "execute_result",
          "data": {
            "text/plain": [
              "matrix([[ 5,  7,  6],\n",
              "        [-4,  8, 11],\n",
              "        [-8,  4,  6]])"
            ]
          },
          "metadata": {},
          "execution_count": 17
        }
      ],
      "source": [
        "matrixA + matrixB"
      ]
    },
    {
      "cell_type": "markdown",
      "metadata": {
        "id": "72Scsp2T5HUL"
      },
      "source": [
        "*Subtraction of Matrices*"
      ]
    },
    {
      "cell_type": "code",
      "execution_count": 18,
      "metadata": {
        "colab": {
          "base_uri": "https://localhost:8080/"
        },
        "id": "kU_POKJx5HUL",
        "outputId": "3ea57e4c-6f5a-459f-cc4f-b25cb2a66b50"
      },
      "outputs": [
        {
          "output_type": "execute_result",
          "data": {
            "text/plain": [
              "matrix([[-9,  3,  0],\n",
              "        [ 2, -2, -3],\n",
              "        [-6,  0, -4]])"
            ]
          },
          "metadata": {},
          "execution_count": 18
        }
      ],
      "source": [
        "matrixA - matrixB"
      ]
    },
    {
      "cell_type": "code",
      "execution_count": 19,
      "metadata": {
        "scrolled": true,
        "colab": {
          "base_uri": "https://localhost:8080/"
        },
        "id": "N8vCoZCk5HUM",
        "outputId": "a35a305b-2608-41d5-fe85-336a42e1660a"
      },
      "outputs": [
        {
          "output_type": "execute_result",
          "data": {
            "text/plain": [
              "matrix([[ 9, -3,  0],\n",
              "        [-2,  2,  3],\n",
              "        [ 6,  0,  4]])"
            ]
          },
          "metadata": {},
          "execution_count": 19
        }
      ],
      "source": [
        "matrixB - matrixA"
      ]
    },
    {
      "cell_type": "markdown",
      "metadata": {
        "id": "qcbteDMQ5HUN"
      },
      "source": [
        "*Multiplication of a matrix by a number*"
      ]
    },
    {
      "cell_type": "code",
      "execution_count": 20,
      "metadata": {
        "colab": {
          "base_uri": "https://localhost:8080/"
        },
        "id": "2VPpbk_z5HUN",
        "outputId": "ace0a800-5ee8-4fc2-86a6-cceb5432425c"
      },
      "outputs": [
        {
          "output_type": "execute_result",
          "data": {
            "text/plain": [
              "matrix([[ -8,  20,  12],\n",
              "        [ -4,  12,  16],\n",
              "        [-28,   8,   4]])"
            ]
          },
          "metadata": {},
          "execution_count": 20
        }
      ],
      "source": [
        "matrixA * 4"
      ]
    },
    {
      "cell_type": "code",
      "execution_count": 21,
      "metadata": {
        "colab": {
          "base_uri": "https://localhost:8080/"
        },
        "id": "NnNItUQc5HUN",
        "outputId": "14f78f97-3d42-48f5-d189-cb9b3dd26c42"
      },
      "outputs": [
        {
          "output_type": "execute_result",
          "data": {
            "text/plain": [
              "matrix([[0, 0, 0],\n",
              "        [0, 0, 0],\n",
              "        [0, 0, 0]])"
            ]
          },
          "metadata": {},
          "execution_count": 21
        }
      ],
      "source": [
        "matrixB * 0"
      ]
    },
    {
      "cell_type": "code",
      "execution_count": 22,
      "metadata": {
        "colab": {
          "base_uri": "https://localhost:8080/"
        },
        "id": "nWlAfZn05HUO",
        "outputId": "63562883-34a3-48ab-e096-2b3afed16d19"
      },
      "outputs": [
        {
          "output_type": "execute_result",
          "data": {
            "text/plain": [
              "matrix([[ -6,  -4,  -6],\n",
              "        [ -4, -10,  -8]])"
            ]
          },
          "metadata": {},
          "execution_count": 22
        }
      ],
      "source": [
        "matrixC * -2"
      ]
    },
    {
      "cell_type": "code",
      "execution_count": 23,
      "metadata": {
        "colab": {
          "base_uri": "https://localhost:8080/"
        },
        "id": "ipS4_5FO5HUO",
        "outputId": "a112be3a-8da4-4ab8-cb4b-066e8f609ddd"
      },
      "outputs": [
        {
          "output_type": "execute_result",
          "data": {
            "text/plain": [
              "matrix([[ 35,  10,  15],\n",
              "        [-15,  25,  35],\n",
              "        [ -5,  10,  25]])"
            ]
          },
          "metadata": {},
          "execution_count": 23
        }
      ],
      "source": [
        "matrixB * 5"
      ]
    },
    {
      "cell_type": "markdown",
      "metadata": {
        "id": "CnBpTFPJ5HUP"
      },
      "source": [
        "*Multiplication of matrices by each other*"
      ]
    },
    {
      "cell_type": "code",
      "execution_count": 24,
      "metadata": {
        "colab": {
          "base_uri": "https://localhost:8080/"
        },
        "id": "Oy1LwCNb5HUP",
        "outputId": "fe7637bf-b1b3-4be5-89a4-8df80993781c"
      },
      "outputs": [
        {
          "output_type": "execute_result",
          "data": {
            "text/plain": [
              "matrix([[12, 22, 38],\n",
              "        [-5, 37, 61]])"
            ]
          },
          "metadata": {},
          "execution_count": 24
        }
      ],
      "source": [
        "matrixC.dot(matrixB)"
      ]
    },
    {
      "cell_type": "code",
      "execution_count": 25,
      "metadata": {
        "colab": {
          "base_uri": "https://localhost:8080/"
        },
        "id": "hOIeC8BC5HUP",
        "outputId": "0e3faa5d-f63b-43ce-e74c-d494af143081"
      },
      "outputs": [
        {
          "output_type": "execute_result",
          "data": {
            "text/plain": [
              "matrix([[-32,  27,  44],\n",
              "        [-20,  21,  38],\n",
              "        [-56,  -2,  -2]])"
            ]
          },
          "metadata": {},
          "execution_count": 25
        }
      ],
      "source": [
        "np.dot(matrixA, matrixB)"
      ]
    },
    {
      "cell_type": "code",
      "execution_count": 26,
      "metadata": {
        "colab": {
          "base_uri": "https://localhost:8080/"
        },
        "id": "BF8FKChR5HUQ",
        "outputId": "c013168c-537e-47f9-d657-3ecdc4e0d6f0"
      },
      "outputs": [
        {
          "output_type": "execute_result",
          "data": {
            "text/plain": [
              "matrix([[-29,  27,  20],\n",
              "        [-37,  33,  30]])"
            ]
          },
          "metadata": {},
          "execution_count": 26
        }
      ],
      "source": [
        "np.dot(matrixC, matrixA)"
      ]
    },
    {
      "cell_type": "markdown",
      "metadata": {
        "id": "QeYydiuA5HUQ"
      },
      "source": [
        "*Dividing a matrix by a number*"
      ]
    },
    {
      "cell_type": "code",
      "execution_count": 27,
      "metadata": {
        "colab": {
          "base_uri": "https://localhost:8080/"
        },
        "id": "E5vGSK1y5HUQ",
        "outputId": "c92b7293-4836-4e81-ad59-ffb11b226a0e"
      },
      "outputs": [
        {
          "output_type": "execute_result",
          "data": {
            "text/plain": [
              "matrix([[ 1. , -2.5, -1.5],\n",
              "        [ 0.5, -1.5, -2. ],\n",
              "        [ 3.5, -1. , -0.5]])"
            ]
          },
          "metadata": {},
          "execution_count": 27
        }
      ],
      "source": [
        "matrixA / -2"
      ]
    },
    {
      "cell_type": "code",
      "execution_count": 28,
      "metadata": {
        "colab": {
          "base_uri": "https://localhost:8080/"
        },
        "id": "Wtb5-ggo5HUR",
        "outputId": "dad134fd-4aa0-4541-d37e-2db9e6715242"
      },
      "outputs": [
        {
          "output_type": "execute_result",
          "data": {
            "text/plain": [
              "matrix([[ 1.75,  0.5 ,  0.75],\n",
              "        [-0.75,  1.25,  1.75],\n",
              "        [-0.25,  0.5 ,  1.25]])"
            ]
          },
          "metadata": {},
          "execution_count": 28
        }
      ],
      "source": [
        "matrixB / 4"
      ]
    },
    {
      "cell_type": "code",
      "execution_count": 29,
      "metadata": {
        "colab": {
          "base_uri": "https://localhost:8080/"
        },
        "id": "e2vKbUu_5HUR",
        "outputId": "fdbdba18-81f7-4c9e-fc43-042b8c65b5a6"
      },
      "outputs": [
        {
          "output_type": "execute_result",
          "data": {
            "text/plain": [
              "matrix([[-12.,  -8., -12.],\n",
              "        [ -8., -20., -16.]])"
            ]
          },
          "metadata": {},
          "execution_count": 29
        }
      ],
      "source": [
        "matrixC / -0.25"
      ]
    },
    {
      "cell_type": "markdown",
      "metadata": {
        "id": "edYJySp55HUS"
      },
      "source": [
        "*Transpose of a matrix*"
      ]
    },
    {
      "cell_type": "code",
      "execution_count": 30,
      "metadata": {
        "colab": {
          "base_uri": "https://localhost:8080/"
        },
        "id": "WK6nGFTq5HUT",
        "outputId": "c7c4cd8f-1aa0-4a70-ce49-b5f50321ee73"
      },
      "outputs": [
        {
          "output_type": "execute_result",
          "data": {
            "text/plain": [
              "matrix([[-2, -1, -7],\n",
              "        [ 5,  3,  2],\n",
              "        [ 3,  4,  1]])"
            ]
          },
          "metadata": {},
          "execution_count": 30
        }
      ],
      "source": [
        "matrixA.transpose()"
      ]
    },
    {
      "cell_type": "code",
      "execution_count": 31,
      "metadata": {
        "colab": {
          "base_uri": "https://localhost:8080/"
        },
        "id": "2mXAjFjB5HUT",
        "outputId": "8d701607-cbfc-489e-f34e-45915dcae9e7"
      },
      "outputs": [
        {
          "output_type": "execute_result",
          "data": {
            "text/plain": [
              "matrix([[ 7, -3, -1],\n",
              "        [ 2,  5,  2],\n",
              "        [ 3,  7,  5]])"
            ]
          },
          "metadata": {},
          "execution_count": 31
        }
      ],
      "source": [
        "matrixB.transpose()"
      ]
    },
    {
      "cell_type": "code",
      "execution_count": 32,
      "metadata": {
        "colab": {
          "base_uri": "https://localhost:8080/"
        },
        "id": "NlCbLMr65HUT",
        "outputId": "7fffbf3f-ff12-4392-bac4-440bd2a2caba"
      },
      "outputs": [
        {
          "output_type": "execute_result",
          "data": {
            "text/plain": [
              "matrix([[3, 2],\n",
              "        [2, 5],\n",
              "        [3, 4]])"
            ]
          },
          "metadata": {},
          "execution_count": 32
        }
      ],
      "source": [
        "matrixC.transpose()"
      ]
    },
    {
      "cell_type": "markdown",
      "metadata": {
        "id": "UXXVQJH95HUU"
      },
      "source": [
        "*The matrix rank is calculated using the function* ***matrix_rank***"
      ]
    },
    {
      "cell_type": "code",
      "execution_count": 33,
      "metadata": {
        "colab": {
          "base_uri": "https://localhost:8080/"
        },
        "id": "4Npno7WI5HUU",
        "outputId": "ecb02b37-6138-408f-f43c-3eeb372a2af4"
      },
      "outputs": [
        {
          "output_type": "execute_result",
          "data": {
            "text/plain": [
              "3"
            ]
          },
          "metadata": {},
          "execution_count": 33
        }
      ],
      "source": [
        "np.linalg.matrix_rank(matrixA)"
      ]
    },
    {
      "cell_type": "code",
      "execution_count": 34,
      "metadata": {
        "colab": {
          "base_uri": "https://localhost:8080/"
        },
        "id": "qE50N0Rj5HUU",
        "outputId": "b507f092-6664-4b19-f6cd-aabb519fad4d"
      },
      "outputs": [
        {
          "output_type": "execute_result",
          "data": {
            "text/plain": [
              "3"
            ]
          },
          "metadata": {},
          "execution_count": 34
        }
      ],
      "source": [
        "np.linalg.matrix_rank(matrixB)"
      ]
    },
    {
      "cell_type": "code",
      "execution_count": 35,
      "metadata": {
        "colab": {
          "base_uri": "https://localhost:8080/"
        },
        "id": "xmcuzwss5HUV",
        "outputId": "00586efb-47ca-48ae-de38-efbaa9061465"
      },
      "outputs": [
        {
          "output_type": "execute_result",
          "data": {
            "text/plain": [
              "2"
            ]
          },
          "metadata": {},
          "execution_count": 35
        }
      ],
      "source": [
        "np.linalg.matrix_rank(matrixC)"
      ]
    },
    {
      "cell_type": "markdown",
      "source": [
        "## 7. Finding a matrix determinant"
      ],
      "metadata": {
        "id": "eJDyG9zO9ovJ"
      }
    },
    {
      "cell_type": "markdown",
      "metadata": {
        "id": "_V5Mvh1V5HUV"
      },
      "source": [
        "*The matrix determinant is found using the function* ***det***"
      ]
    },
    {
      "cell_type": "code",
      "execution_count": 36,
      "metadata": {
        "colab": {
          "base_uri": "https://localhost:8080/"
        },
        "id": "p9HEl9si5HUV",
        "outputId": "8c23d4c6-6546-4c59-e3ca-229d61e09967"
      },
      "outputs": [
        {
          "output_type": "execute_result",
          "data": {
            "text/plain": [
              "-68.0"
            ]
          },
          "metadata": {},
          "execution_count": 36
        }
      ],
      "source": [
        "round(np.linalg.det(matrixA), 2)"
      ]
    },
    {
      "cell_type": "code",
      "execution_count": 37,
      "metadata": {
        "colab": {
          "base_uri": "https://localhost:8080/"
        },
        "id": "7BGZHYwt5HUW",
        "outputId": "707a1d82-6ce7-4cd4-f98c-c1d4aba949e9"
      },
      "outputs": [
        {
          "output_type": "execute_result",
          "data": {
            "text/plain": [
              "90.0"
            ]
          },
          "metadata": {},
          "execution_count": 37
        }
      ],
      "source": [
        "round(np.linalg.det(matrixB), 2)"
      ]
    },
    {
      "cell_type": "code",
      "source": [
        "# another example\n",
        "\n",
        "matrix1 = np.array([\n",
        "    [1, 2],\n",
        "    [4, 5]\n",
        "])\n",
        "\n",
        "matrix2 = np.array([\n",
        "    [1, 2, 3],\n",
        "    [4, 5, 6],\n",
        "    [7, 8, 9]\n",
        "])\n",
        "\n",
        "matrix3 = np.array([\n",
        "    [1, 2, 3, 7, 4, 9, 5],\n",
        "    [2, 5, 6, 1, 3, 8, 3],\n",
        "    [4, 0, 5, 7, 4, 4, 1],\n",
        "    [5, 5, 1, 8, 7, 3, 2],\n",
        "    [4, 4, 6, 7, 4, 2, 1],\n",
        "    [1, 5, 7, 0, 6, 9, 7],\n",
        "    [7, 8, 4, 9, 4, 1, 4]\n",
        "])\n",
        "\n",
        "print(\"Finding a determinant using a library\")\n",
        "mat1 = np.linalg.det(matrix1)\n",
        "mat2 = np.linalg.det(matrix2)\n",
        "mat3 = np.linalg.det(matrix3)\n",
        "print(mat1)\n",
        "print(mat2)\n",
        "print(mat3)\n",
        "\n",
        "print(\"Finding a determinant without a library\")\n",
        "def getMatDet2x2(mat):\n",
        "     return mat[0, 0] * mat[1, 1] - mat[0, 1] * mat[1, 0]\n",
        "print(getMatDet2x2(matrix1))\n",
        "\n",
        "import copy\n",
        "        \n",
        "def minor( A, i, j ):\n",
        "    M = copy.deepcopy(A) \n",
        "    del M[i]\n",
        "    for i in range(len(A[0]) - 1):\n",
        "        del M[i][j]\n",
        "    return M   \n",
        "    \n",
        "def det( A ):\n",
        "    m = len(A)\n",
        "    n = len(A[0])\n",
        "    if m != n:\n",
        "        return None\n",
        "    if n == 1:\n",
        "        return A[0][0]\n",
        "    signum = 1\n",
        "    determinant = 0\n",
        "    # decomposition on the first line\n",
        "    for j in range( n ):\n",
        "        determinant += A[0][j]*signum*det(minor(A, 0, j)) \n",
        "        signum *= -1\n",
        "    return determinant                           \n",
        "      \n",
        "A =[[1, 2, 3],\n",
        "    [4, 5, 6],\n",
        "    [7, 8, 9]]\n",
        "B =[[1, 2, 3, 7, 4, 9, 5],\n",
        "    [2, 5, 6, 1, 3, 8, 3],\n",
        "    [4, 0, 5, 7, 4, 4, 1],\n",
        "    [5, 5, 1, 8, 7, 3, 2],\n",
        "    [4, 4, 6, 7, 4, 2, 1],\n",
        "    [1, 5, 7, 0, 6, 9, 7],\n",
        "    [7, 8, 4, 9, 4, 1, 4]]\n",
        "print(det(A))\n",
        "print(det(B))"
      ],
      "metadata": {
        "colab": {
          "base_uri": "https://localhost:8080/"
        },
        "id": "tQR4UCD3BKR1",
        "outputId": "23026190-6e86-4250-e9aa-838d82b78b63"
      },
      "execution_count": 51,
      "outputs": [
        {
          "output_type": "stream",
          "name": "stdout",
          "text": [
            "Finding a determinant using a library\n",
            "-2.9999999999999996\n",
            "0.0\n",
            "-189715.99999999985\n",
            "Finding a determinant without a library\n",
            "-3\n",
            "0\n",
            "-189716\n"
          ]
        }
      ]
    },
    {
      "cell_type": "markdown",
      "metadata": {
        "id": "vLKFvSXP5HUW"
      },
      "source": [
        "## 8. Defining a system of linear equations in Python"
      ]
    },
    {
      "cell_type": "markdown",
      "metadata": {
        "id": "4KBE6Q8A5HUW"
      },
      "source": [
        " ***#1***"
      ]
    },
    {
      "cell_type": "code",
      "execution_count": 38,
      "metadata": {
        "colab": {
          "base_uri": "https://localhost:8080/"
        },
        "id": "H5z5sc1F5HUW",
        "outputId": "ddcfc906-68cf-482d-de94-3e44d2250470"
      },
      "outputs": [
        {
          "output_type": "execute_result",
          "data": {
            "text/plain": [
              "array([-1., -5.,  6.])"
            ]
          },
          "metadata": {},
          "execution_count": 38
        }
      ],
      "source": [
        "L1 = np.array([[1, 1, 1], [8, 4, 6], [15, 3, 5]]) #left part\n",
        "R1 = np.array([0, 8, 0]) #right part\n",
        "\n",
        "np.linalg.solve(L1, R1)"
      ]
    },
    {
      "cell_type": "markdown",
      "metadata": {
        "id": "T-jeva275HUX"
      },
      "source": [
        "***#2***"
      ]
    },
    {
      "cell_type": "code",
      "execution_count": 39,
      "metadata": {
        "colab": {
          "base_uri": "https://localhost:8080/"
        },
        "id": "VqJRy6d65HUX",
        "outputId": "f0aaad13-da4c-4539-8232-0970a41e2328"
      },
      "outputs": [
        {
          "output_type": "execute_result",
          "data": {
            "text/plain": [
              "array([ 1.00000000e+00,  2.00000000e+00,  2.00000000e+00, -3.70074342e-15])"
            ]
          },
          "metadata": {},
          "execution_count": 39
        }
      ],
      "source": [
        "L2 = np.array([[2, 5, 4, 1], [1, 3, 2, 1], [2, 10, 9, 7], [3, 8, 9, 2]])\n",
        "R2 = np.array([20, 11, 40, 37])\n",
        "\n",
        "np.linalg.solve(L2, R2)"
      ]
    },
    {
      "cell_type": "markdown",
      "metadata": {
        "id": "npEcR6YB5HUX"
      },
      "source": [
        "## 9. Finding an inverse matrix"
      ]
    },
    {
      "cell_type": "markdown",
      "metadata": {
        "id": "LRS6vPsH5HUY"
      },
      "source": [
        "*Initial matrix* ***A***"
      ]
    },
    {
      "cell_type": "code",
      "execution_count": 40,
      "metadata": {
        "colab": {
          "base_uri": "https://localhost:8080/"
        },
        "id": "qWB0PR405HUY",
        "outputId": "b7eaab67-2d2f-4381-8977-9176f94582a3"
      },
      "outputs": [
        {
          "output_type": "execute_result",
          "data": {
            "text/plain": [
              "matrix([[-2,  5,  3],\n",
              "        [-1,  3,  4],\n",
              "        [-7,  2,  1]])"
            ]
          },
          "metadata": {},
          "execution_count": 40
        }
      ],
      "source": [
        "matrixA"
      ]
    },
    {
      "cell_type": "markdown",
      "metadata": {
        "id": "KLNB-_V75HUY"
      },
      "source": [
        "*Inverse matrix* ***A***"
      ]
    },
    {
      "cell_type": "code",
      "execution_count": 41,
      "metadata": {
        "colab": {
          "base_uri": "https://localhost:8080/"
        },
        "id": "H4njsrje5HUZ",
        "outputId": "65ace4d8-712e-40df-b3a6-4790eef9e651"
      },
      "outputs": [
        {
          "output_type": "execute_result",
          "data": {
            "text/plain": [
              "array([[ 0.074, -0.015, -0.162],\n",
              "       [ 0.397, -0.279, -0.074],\n",
              "       [-0.279,  0.456,  0.015]])"
            ]
          },
          "metadata": {},
          "execution_count": 41
        }
      ],
      "source": [
        "matrixA_inv = np.linalg.inv(matrixA)\n",
        "\n",
        "matrixA_inv.round(3)"
      ]
    },
    {
      "cell_type": "markdown",
      "metadata": {
        "id": "o0hHakUs5HUZ"
      },
      "source": [
        "*Inverse matrix from inverse matrix* ***A*** *( checking)*"
      ]
    },
    {
      "cell_type": "code",
      "execution_count": 42,
      "metadata": {
        "colab": {
          "base_uri": "https://localhost:8080/"
        },
        "id": "X4eLoGhZ5HUa",
        "outputId": "43f79c26-da78-47b1-94b3-9380ff2926ad"
      },
      "outputs": [
        {
          "output_type": "execute_result",
          "data": {
            "text/plain": [
              "matrix([[-2.,  5.,  3.],\n",
              "        [-1.,  3.,  4.],\n",
              "        [-7.,  2.,  1.]])"
            ]
          },
          "metadata": {},
          "execution_count": 42
        }
      ],
      "source": [
        "np.linalg.inv(matrixA_inv)"
      ]
    },
    {
      "cell_type": "markdown",
      "metadata": {
        "id": "ejRSg32Q5HUa"
      },
      "source": [
        "*Inverse matrix* ***B***"
      ]
    },
    {
      "cell_type": "code",
      "execution_count": 43,
      "metadata": {
        "colab": {
          "base_uri": "https://localhost:8080/"
        },
        "id": "52FX_mo55HUb",
        "outputId": "26193bc8-7e2f-4bde-b970-9240850a9d99"
      },
      "outputs": [
        {
          "output_type": "execute_result",
          "data": {
            "text/plain": [
              "array([[ 0.122, -0.044, -0.011],\n",
              "       [ 0.089,  0.422, -0.644],\n",
              "       [-0.011, -0.178,  0.456]])"
            ]
          },
          "metadata": {},
          "execution_count": 43
        }
      ],
      "source": [
        "np.linalg.inv(matrixB).round(3)"
      ]
    },
    {
      "cell_type": "markdown",
      "metadata": {
        "id": "1TawB5qA5HUb"
      },
      "source": [
        "## 10. Singular decomposition of matrices"
      ]
    },
    {
      "cell_type": "markdown",
      "metadata": {
        "id": "R8amcP3E5HUb"
      },
      "source": [
        "*Singular decomposition is performed using the method* ***svd***"
      ]
    },
    {
      "cell_type": "markdown",
      "metadata": {
        "id": "IkBvznVc5HUc"
      },
      "source": [
        "*Singular matrix decomposition for* ***A***"
      ]
    },
    {
      "cell_type": "code",
      "execution_count": 44,
      "metadata": {
        "colab": {
          "base_uri": "https://localhost:8080/"
        },
        "id": "lh6uf-BZ5HUc",
        "outputId": "82e6c8d5-6235-4a9b-9184-6c1055f5e5cc"
      },
      "outputs": [
        {
          "output_type": "stream",
          "name": "stdout",
          "text": [
            "U1\n",
            "[[-0.598 -0.438 -0.671]\n",
            " [-0.449 -0.511  0.733]\n",
            " [-0.664  0.74   0.109]]\n",
            "\n",
            "\n",
            "D1\n",
            "[9.475 5.124 1.401]\n",
            "\n",
            "\n",
            "V1\n",
            "[[ 0.664 -0.598 -0.449]\n",
            " [-0.74  -0.438 -0.511]\n",
            " [-0.109 -0.671  0.733]]\n"
          ]
        }
      ],
      "source": [
        "U1, D1, V1 = np.linalg.svd(matrixA)\n",
        "print(\"U1\")\n",
        "print(U1.round(3))\n",
        "print(\"\\n\")\n",
        "\n",
        "print(\"D1\")\n",
        "print(D1.round(3))\n",
        "print(\"\\n\")\n",
        "\n",
        "print(\"V1\")\n",
        "print(V1.round(3))"
      ]
    },
    {
      "cell_type": "markdown",
      "metadata": {
        "id": "DKe5aea55HUc"
      },
      "source": [
        "*Back reconstruction into the matrix* ***A***"
      ]
    },
    {
      "cell_type": "code",
      "execution_count": 45,
      "metadata": {
        "colab": {
          "base_uri": "https://localhost:8080/"
        },
        "id": "y7LOU7M55HUd",
        "outputId": "680c9b49-390f-4a96-af78-4ca992936aa6"
      },
      "outputs": [
        {
          "output_type": "execute_result",
          "data": {
            "text/plain": [
              "array([[-2.,  5.,  3.],\n",
              "       [-1.,  3.,  4.],\n",
              "       [-7.,  2.,  1.]])"
            ]
          },
          "metadata": {},
          "execution_count": 45
        }
      ],
      "source": [
        "np.linalg.inv(np.transpose(V1).dot(np.diag(1/D1).dot(np.transpose(U1)))).round(2)"
      ]
    },
    {
      "cell_type": "markdown",
      "metadata": {
        "id": "dwKipr3t5HUd"
      },
      "source": [
        "*Singular matrix decomposition for* ***B***"
      ]
    },
    {
      "cell_type": "code",
      "execution_count": 46,
      "metadata": {
        "colab": {
          "base_uri": "https://localhost:8080/"
        },
        "id": "nyBwdEfm5HUd",
        "outputId": "76056a7e-9f47-43e4-ee8b-1e732201b292"
      },
      "outputs": [
        {
          "output_type": "stream",
          "name": "stdout",
          "text": [
            "U2\n",
            "[[-0.267  0.96  -0.089]\n",
            " [-0.824 -0.275 -0.496]\n",
            " [-0.5   -0.059  0.864]]\n",
            "\n",
            "\n",
            "D2\n",
            "[10.742  7.642  1.096]\n",
            "\n",
            "\n",
            "V2\n",
            "[[ 0.103 -0.526 -0.844]\n",
            " [ 0.995  0.056  0.086]\n",
            " [ 0.002 -0.849  0.529]]\n"
          ]
        }
      ],
      "source": [
        "U2, D2, V2 = np.linalg.svd(matrixB)\n",
        "\n",
        "print(\"U2\")\n",
        "print(U2.round(3))\n",
        "print(\"\\n\")\n",
        "\n",
        "print(\"D2\")\n",
        "print(D2.round(3))\n",
        "print(\"\\n\")\n",
        "\n",
        "print(\"V2\")\n",
        "print(V2.round(3))"
      ]
    },
    {
      "cell_type": "markdown",
      "metadata": {
        "id": "-xFpDO0i5HUe"
      },
      "source": [
        "*Back reconstruction into the matrix* ***B***"
      ]
    },
    {
      "cell_type": "code",
      "execution_count": 47,
      "metadata": {
        "colab": {
          "base_uri": "https://localhost:8080/"
        },
        "id": "IWgFNIbd5HUe",
        "outputId": "45aee557-4afc-4ed8-f5c5-699fa10be8d3"
      },
      "outputs": [
        {
          "output_type": "execute_result",
          "data": {
            "text/plain": [
              "array([[ 7.,  2.,  3.],\n",
              "       [-3.,  5.,  7.],\n",
              "       [-1.,  2.,  5.]])"
            ]
          },
          "metadata": {},
          "execution_count": 47
        }
      ],
      "source": [
        "np.linalg.inv(np.transpose(V2).dot(np.diag(1/D2)).dot(np.transpose(U2))).round(2)"
      ]
    }
  ],
  "metadata": {
    "kernelspec": {
      "display_name": "Python 3",
      "language": "python",
      "name": "python3"
    },
    "language_info": {
      "codemirror_mode": {
        "name": "ipython",
        "version": 3
      },
      "file_extension": ".py",
      "mimetype": "text/x-python",
      "name": "python",
      "nbconvert_exporter": "python",
      "pygments_lexer": "ipython3",
      "version": "3.7.6"
    },
    "colab": {
      "name": "basics of linear algebra.ipynb",
      "provenance": [],
      "collapsed_sections": []
    }
  },
  "nbformat": 4,
  "nbformat_minor": 0
}