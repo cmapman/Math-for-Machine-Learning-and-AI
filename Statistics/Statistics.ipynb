{
  "nbformat": 4,
  "nbformat_minor": 0,
  "metadata": {
    "kernelspec": {
      "display_name": "Python 3",
      "language": "python",
      "name": "python3"
    },
    "language_info": {
      "codemirror_mode": {
        "name": "ipython",
        "version": 3
      },
      "file_extension": ".py",
      "mimetype": "text/x-python",
      "name": "python",
      "nbconvert_exporter": "python",
      "pygments_lexer": "ipython3",
      "version": "3.7.6"
    },
    "colab": {
      "name": "Statistics.ipynb",
      "provenance": [],
      "collapsed_sections": []
    }
  },
  "cells": [
    {
      "cell_type": "markdown",
      "metadata": {
        "id": "1F1TRMIhgPqB"
      },
      "source": [
        "From: K.A."
      ]
    },
    {
      "cell_type": "markdown",
      "metadata": {
        "id": "t_difa5XgYBs"
      },
      "source": [
        "# Mathematical statistics\n",
        "\n",
        "1. Generation of a random sample corresponding to a certain distribution (normal, binomial, Bernoulli, geometric, hypergeometric, Poisson, exponential, log-normal, chi-squared, Student's distribution, Fisher-Snedekor distribution), and their visualization.\n",
        "\n",
        "2. Calculation of distribution characteristics (expectation, variance, quantiles, median, mode, standard deviation, interquartile range). \n",
        "\n",
        "3. \"Anscombe's Quartet\" in Python\n"
      ]
    },
    {
      "cell_type": "markdown",
      "metadata": {
        "id": "vUFc8GmefcBx"
      },
      "source": [
        "## 1. Distributions"
      ]
    },
    {
      "cell_type": "code",
      "metadata": {
        "id": "RrebQOZlvcul"
      },
      "source": [
        "# importing libraries\n",
        "import matplotlib.pyplot as plt\n",
        "import numpy as np\n",
        "p=0.6 # probability\n",
        "size = 100 # number of elements"
      ],
      "execution_count": 1,
      "outputs": []
    },
    {
      "cell_type": "markdown",
      "metadata": {
        "id": "yQun1QmrK30O"
      },
      "source": [
        "##1.1 Normal distribution"
      ]
    },
    {
      "cell_type": "code",
      "metadata": {
        "id": "42nHUb1ZK0CX",
        "outputId": "2147b1ab-0e88-434d-b40e-a64c926917da",
        "colab": {
          "base_uri": "https://localhost:8080/",
          "height": 578
        }
      },
      "source": [
        "# https://docs.scipy.org/doc/scipy/reference/generated/scipy.stats.norm.html#scipy.stats.norm\n",
        "from scipy.stats import norm\n",
        "\n",
        "data_norm = norm.rvs(size=100)\n",
        "print(data_norm)\n",
        "\n",
        "plt.plot(data_norm, \"bo\")\n",
        "plt.axis([-10, 10, -2, 2])\n",
        "plt.grid()\n",
        "plt.show()"
      ],
      "execution_count": 2,
      "outputs": [
        {
          "output_type": "stream",
          "name": "stdout",
          "text": [
            "[ 0.48961635  0.5141086  -0.47665669 -0.50867953 -1.23503518 -0.54196232\n",
            " -0.00702262  0.17568162  0.74949042 -0.41809055 -1.01020626  0.18782502\n",
            " -0.03432732 -0.8000756  -0.2600654  -0.17442512  0.39327653  0.5929106\n",
            " -0.3470679   0.87747444 -0.03462088  0.49912523  1.52373893  0.90293553\n",
            " -0.8055952  -0.42483506  2.38119722 -1.07110003 -0.11048615  1.30252636\n",
            " -2.01478533  0.96552639 -0.52686943  2.76561885 -0.40344962 -0.43524514\n",
            "  0.45476721 -0.29464067  1.64228026 -1.16934428 -0.18509884 -0.1667522\n",
            " -0.63723257 -0.60061264  0.57480059 -0.45533839 -0.129329   -0.84329986\n",
            "  1.58464695 -0.99222389  0.53979508  0.49181773 -0.10412301 -1.46657638\n",
            "  1.15788985  1.07579715  0.53207118  2.92677431 -1.16676897  0.31024405\n",
            " -0.81388052  0.46409007  0.6125578   2.12565715  0.35867117  1.65080729\n",
            " -1.50654185 -0.68531278  2.13622063  2.85051967  0.56999345 -0.07292729\n",
            "  0.06346739 -0.49849523 -1.38138784  1.13488825 -0.0597671   0.73291356\n",
            "  1.40613151  0.4289473  -1.23217728 -0.61166622  0.04096347  1.11781038\n",
            "  0.97783767 -0.76609844 -1.01132347  0.95117479  1.08532394  0.5012907\n",
            "  0.98749842  0.84045355 -0.81788732  0.39336663 -0.06273596 -1.56618706\n",
            " -0.41910825 -0.17706464  0.18692259  0.80667301]\n"
          ]
        },
        {
          "output_type": "display_data",
          "data": {
            "text/plain": [
              "<Figure size 432x288 with 1 Axes>"
            ],
            "image/png": "[encoded data removed]"
          },
          "metadata": {
            "needs_background": "light"
          }
        }
      ]
    },
    {
      "cell_type": "markdown",
      "metadata": {
        "id": "XKHKzE-eK5nv"
      },
      "source": [
        "##1.2 Binomial distribution"
      ]
    },
    {
      "cell_type": "code",
      "metadata": {
        "id": "CSinprUqLHT3",
        "outputId": "83550979-921e-49db-a89d-50862728299f",
        "colab": {
          "base_uri": "https://localhost:8080/",
          "height": 323
        }
      },
      "source": [
        "# https://docs.scipy.org/doc/scipy/reference/generated/scipy.stats.binom.html#scipy.stats.binom\n",
        "from scipy.stats import binom\n",
        "n = 5 \n",
        "\n",
        "data_binom = binom.rvs(n, p, size=100)\n",
        "print(data_binom)\n",
        "\n",
        "plt.plot(data_binom, \"bo\")\n",
        "plt.axis([-10, 100, -10, 10])\n",
        "plt.grid()\n",
        "plt.show()"
      ],
      "execution_count": 3,
      "outputs": [
        {
          "output_type": "stream",
          "name": "stdout",
          "text": [
            "[3 3 2 4 5 3 4 3 4 3 4 5 3 5 4 4 3 3 3 4 3 3 5 3 4 4 2 4 5 3 3 2 5 4 2 5 4\n",
            " 4 2 2 5 5 4 1 4 2 5 5 4 4 4 4 5 2 3 3 2 3 4 2 3 3 3 1 2 3 4 4 3 2 4 3 3 3\n",
            " 2 4 4 3 4 2 4 3 3 5 3 2 3 2 1 5 3 2 3 3 4 3 3 3 3 4]\n"
          ]
        },
        {
          "output_type": "display_data",
          "data": {
            "text/plain": [
              "<Figure size 432x288 with 1 Axes>"
            ],
            "image/png": "[encoded data removed]"
          },
          "metadata": {
            "needs_background": "light"
          }
        }
      ]
    },
    {
      "cell_type": "markdown",
      "metadata": {
        "id": "QAVrp13qhKf0"
      },
      "source": [
        "##1.3 Bernoulli distribution"
      ]
    },
    {
      "cell_type": "code",
      "metadata": {
        "id": "tcrhxNpufcBz",
        "outputId": "9d4969e6-a25f-459d-b65e-d821ca845037",
        "colab": {
          "base_uri": "https://localhost:8080/",
          "height": 323
        }
      },
      "source": [
        "# https://docs.scipy.org/doc/scipy/reference/generated/scipy.stats.bernoulli.html#scipy.stats.bernoulli\n",
        "from scipy.stats import bernoulli\n",
        "\n",
        "data_bern = bernoulli.rvs(size=100,p=0.6)\n",
        "print(data_bern)\n",
        "\n",
        "plt.plot(data_bern, \"bo\")\n",
        "plt.axis([-10, 100, -1.5, 2])\n",
        "plt.grid()\n",
        "plt.show()"
      ],
      "execution_count": 4,
      "outputs": [
        {
          "output_type": "stream",
          "name": "stdout",
          "text": [
            "[0 1 1 1 0 1 1 0 1 1 1 1 1 1 1 0 1 1 1 1 0 1 1 1 0 0 0 0 0 1 1 1 0 1 1 1 0\n",
            " 1 1 0 1 1 1 0 1 0 0 1 1 0 0 1 0 0 1 0 1 1 1 1 1 0 1 0 0 0 0 1 1 1 1 1 0 1\n",
            " 1 0 0 1 1 0 1 0 0 0 1 1 0 1 1 0 1 1 1 0 1 1 0 0 1 0]\n"
          ]
        },
        {
          "output_type": "display_data",
          "data": {
            "text/plain": [
              "<Figure size 432x288 with 1 Axes>"
            ],
            "image/png": "[encoded data removed]"
          },
          "metadata": {
            "needs_background": "light"
          }
        }
      ]
    },
    {
      "cell_type": "markdown",
      "metadata": {
        "id": "fQ10d9OYLMs4"
      },
      "source": [
        "##1.4 Geometric distribution"
      ]
    },
    {
      "cell_type": "code",
      "metadata": {
        "id": "18jtAYc8LLM9",
        "outputId": "0ceb892a-2f74-43c5-f892-49586730f451",
        "colab": {
          "base_uri": "https://localhost:8080/",
          "height": 323
        }
      },
      "source": [
        "# https://docs.scipy.org/doc/scipy/reference/generated/scipy.stats.geom.html#scipy.stats.geom\n",
        "from scipy.stats import geom\n",
        "\n",
        "data_geom = geom.rvs(p, size=100)\n",
        "print(data_geom)\n",
        "\n",
        "plt.plot(data_geom, \"bo\")\n",
        "plt.axis([-10, 100, 1, 5.5])\n",
        "plt.grid()\n",
        "plt.show()"
      ],
      "execution_count": 5,
      "outputs": [
        {
          "output_type": "stream",
          "name": "stdout",
          "text": [
            "[4 2 3 1 1 1 2 1 1 4 1 1 1 5 1 1 1 2 1 1 3 1 1 2 1 1 2 2 1 4 1 1 1 3 1 1 1\n",
            " 2 1 3 3 1 2 1 1 2 1 4 1 7 1 1 1 2 3 1 1 4 1 1 1 1 1 2 2 1 2 1 2 1 4 2 4 4\n",
            " 1 2 3 1 2 1 1 1 1 1 3 3 1 1 1 1 5 3 1 2 1 1 1 4 2 3]\n"
          ]
        },
        {
          "output_type": "display_data",
          "data": {
            "text/plain": [
              "<Figure size 432x288 with 1 Axes>"
            ],
            "image/png": "[encoded data removed]"
          },
          "metadata": {
            "needs_background": "light"
          }
        }
      ]
    },
    {
      "cell_type": "markdown",
      "metadata": {
        "id": "hG0TmqacLRkD"
      },
      "source": [
        "##1.5 Hypergeometric distribution"
      ]
    },
    {
      "cell_type": "code",
      "metadata": {
        "id": "FVgnDodhxw47",
        "outputId": "53c92649-4439-4b50-a892-3c1cca0c018c",
        "colab": {
          "base_uri": "https://localhost:8080/",
          "height": 323
        }
      },
      "source": [
        "# https://docs.scipy.org/doc/scipy/reference/generated/scipy.stats.hypergeom.html#scipy.stats.hypergeom\n",
        "from scipy.stats import hypergeom\n",
        "[M, n, N] = [20, 7, 12]\n",
        "# M is the number of all objects to analyze, n is the number of needed objects, N is the remaining objects (M-n)\n",
        "\n",
        "data_hiper = hypergeom.rvs(M, n, N, size=100)\n",
        "print(data_hiper)\n",
        "\n",
        "plt.plot(data_hiper, \"bo\")\n",
        "plt.axis([-10, 100, 0, 7])\n",
        "plt.grid()\n",
        "plt.show()"
      ],
      "execution_count": 6,
      "outputs": [
        {
          "output_type": "stream",
          "name": "stdout",
          "text": [
            "[3 3 5 5 4 4 4 5 4 3 4 4 3 5 3 5 5 4 3 4 5 3 4 1 5 5 4 4 5 7 4 5 3 5 4 3 4\n",
            " 4 5 4 4 5 3 5 2 6 5 3 5 6 4 5 5 6 3 5 3 3 5 2 4 5 4 5 1 4 3 4 4 4 2 4 5 5\n",
            " 3 4 4 4 4 2 4 3 5 5 5 5 6 5 6 6 3 4 4 3 3 6 5 6 4 6]\n"
          ]
        },
        {
          "output_type": "display_data",
          "data": {
            "text/plain": [
              "<Figure size 432x288 with 1 Axes>"
            ],
            "image/png": "[encoded data removed]"
          },
          "metadata": {
            "needs_background": "light"
          }
        }
      ]
    },
    {
      "cell_type": "markdown",
      "metadata": {
        "id": "RpAnTAN9LRvB"
      },
      "source": [
        "##1.6 Poisson distribution"
      ]
    },
    {
      "cell_type": "code",
      "metadata": {
        "id": "YWGCZtiOyORj",
        "outputId": "0f6f9200-7d38-48f0-a56a-74d5d0a16e6a",
        "colab": {
          "base_uri": "https://localhost:8080/",
          "height": 323
        }
      },
      "source": [
        "# https://docs.scipy.org/doc/scipy/reference/generated/scipy.stats.poisson.html#scipy.stats.poisson\n",
        "from scipy.stats import poisson\n",
        "\n",
        "data_poisson = poisson.rvs(p, size=100)\n",
        "print(data_poisson)\n",
        "\n",
        "plt.plot(data_poisson, \"bo\")\n",
        "plt.axis([-10, 100, -1, 5])\n",
        "plt.grid()\n",
        "plt.show()"
      ],
      "execution_count": 7,
      "outputs": [
        {
          "output_type": "stream",
          "name": "stdout",
          "text": [
            "[1 0 0 0 0 0 0 0 1 0 1 0 0 0 1 0 0 2 0 0 1 1 0 0 1 2 0 2 1 0 0 0 0 0 0 1 0\n",
            " 0 0 0 0 1 1 0 1 0 0 1 0 2 1 0 0 1 1 1 1 0 1 1 0 2 0 0 0 0 1 1 2 3 0 2 0 0\n",
            " 2 2 1 1 1 1 0 0 3 0 1 1 0 0 0 0 0 1 2 1 1 1 1 0 0 2]\n"
          ]
        },
        {
          "output_type": "display_data",
          "data": {
            "text/plain": [
              "<Figure size 432x288 with 1 Axes>"
            ],
            "image/png": "[encoded data removed]"
          },
          "metadata": {
            "needs_background": "light"
          }
        }
      ]
    },
    {
      "cell_type": "markdown",
      "metadata": {
        "id": "ywlkhoKdLR46"
      },
      "source": [
        "##1.7 Exponential distribution"
      ]
    },
    {
      "cell_type": "code",
      "metadata": {
        "id": "aioux7kF1crg",
        "outputId": "fd5d2212-bbbe-4728-f784-0e7c508741db",
        "colab": {
          "base_uri": "https://localhost:8080/",
          "height": 722
        }
      },
      "source": [
        "# https://docs.scipy.org/doc/scipy/reference/generated/scipy.stats.expon.html\n",
        "from scipy.stats import expon\n",
        "\n",
        "data_rasp = expon.rvs(size=100)\n",
        "print(data_rasp)\n",
        "\n",
        "plt.plot(data_rasp, \"bo\")\n",
        "plt.axis([-10, 100, -1, 10])\n",
        "plt.grid()\n",
        "plt.show()"
      ],
      "execution_count": 8,
      "outputs": [
        {
          "output_type": "stream",
          "name": "stdout",
          "text": [
            "[1.11113201e-01 6.68790966e-01 6.80605521e-02 9.17430707e-01\n",
            " 2.26017433e-03 2.57949063e+00 3.37209730e-01 2.27221299e+00\n",
            " 5.68186849e-03 3.51186589e+00 4.75245900e-01 3.59643793e+00\n",
            " 2.83943299e+00 8.89803761e-01 1.66750972e-01 6.14459341e-01\n",
            " 1.47836256e-01 2.17771462e-01 5.00373082e-01 1.21267459e+00\n",
            " 2.72534914e-01 1.94936535e-01 4.61359129e-01 3.67800132e-01\n",
            " 6.29228720e-02 1.97402267e+00 2.42951093e+00 9.49617381e-01\n",
            " 4.47371329e-02 2.82711796e-01 8.38018270e-01 1.49896332e+00\n",
            " 1.83638471e+00 5.87190949e-01 2.22342792e+00 7.20727639e-01\n",
            " 8.87855870e-01 1.37417294e+00 1.52646443e+00 9.76411398e-01\n",
            " 1.23782960e+00 3.52767740e-01 9.16155779e-02 4.20428258e-02\n",
            " 4.66391044e-01 1.31260192e+00 1.17837221e+00 1.10526745e+00\n",
            " 3.18694687e-01 6.06069320e-01 7.45540277e-01 5.09049652e-01\n",
            " 6.43954266e-01 1.90147582e+00 1.85525147e+00 2.10654689e+00\n",
            " 7.87858600e-01 2.16248300e-01 2.16376369e-01 2.67064646e-02\n",
            " 1.15252070e+00 5.60742870e-01 7.73273120e-01 2.94903515e-01\n",
            " 2.26083141e+00 6.69739347e-01 5.70177681e-01 2.43959949e-01\n",
            " 3.95191986e-01 8.89730194e-01 1.45696173e+00 4.67208537e-02\n",
            " 1.66681399e+00 3.88966440e+00 1.10312794e-02 5.72373168e-03\n",
            " 2.82581817e+00 3.83796481e-01 1.12741562e-01 9.33122580e-02\n",
            " 1.07261989e+00 2.11960188e-01 1.33269783e+00 2.28196383e+00\n",
            " 3.51730083e-01 6.10627360e-02 2.36009450e-01 1.95018715e-02\n",
            " 8.41691056e-01 1.20572925e+00 5.80892354e-01 1.45245913e+00\n",
            " 1.73355030e+00 1.35676260e+00 2.59385156e-01 6.12675952e-01\n",
            " 2.50564971e+00 5.91444276e-01 2.86998542e+00 1.08207280e+00]\n"
          ]
        },
        {
          "output_type": "display_data",
          "data": {
            "text/plain": [
              "<Figure size 432x288 with 1 Axes>"
            ],
            "image/png": "[encoded data removed]"
          },
          "metadata": {
            "needs_background": "light"
          }
        }
      ]
    },
    {
      "cell_type": "markdown",
      "metadata": {
        "id": "7L4JZsf9LSFm"
      },
      "source": [
        "##1.8 Log-normal distribution"
      ]
    },
    {
      "cell_type": "code",
      "metadata": {
        "id": "QZxvBebV2FMU",
        "outputId": "42e6e9a7-3db0-4b4f-978b-74db6d2b73fc",
        "colab": {
          "base_uri": "https://localhost:8080/",
          "height": 578
        }
      },
      "source": [
        "# https://docs.scipy.org/doc/scipy/reference/generated/scipy.stats.lognorm.html\n",
        "from scipy.stats import lognorm\n",
        "\n",
        "data_log = lognorm.rvs(p, size=100)\n",
        "print(data_log)\n",
        "\n",
        "plt.plot(data_log, \"bo\")\n",
        "plt.axis([-10, 100, 0, 10])\n",
        "plt.grid()\n",
        "plt.show()"
      ],
      "execution_count": 9,
      "outputs": [
        {
          "output_type": "stream",
          "name": "stdout",
          "text": [
            "[0.67012522 2.22825752 1.99679332 0.50820291 0.65794246 2.99918509\n",
            " 0.54677182 1.09501423 0.90876859 0.43431375 1.82097649 1.30582675\n",
            " 1.26265511 1.19411659 1.38730292 0.78402473 2.71527366 2.58105143\n",
            " 4.06251268 0.51414883 1.10870524 0.88097302 0.53929232 1.8832241\n",
            " 1.37716566 1.14673516 1.00091912 0.29886302 1.44756747 0.48084268\n",
            " 0.87329959 1.2196288  1.30256949 0.89527042 1.67805814 1.11335565\n",
            " 1.84937883 1.5821121  1.07510753 1.52292356 0.69407217 1.41377331\n",
            " 2.22178737 1.14110167 1.1961827  1.45156712 1.29178967 1.06282713\n",
            " 0.98573688 1.13748278 1.58293761 1.11438993 0.84032106 0.57625584\n",
            " 1.25108091 1.75668311 0.99996259 0.55004177 1.57376837 1.00489969\n",
            " 1.71502723 0.38532876 0.72072451 0.47088237 0.6972026  1.52892562\n",
            " 1.09709701 0.26485357 0.58633834 2.37563383 1.1363123  0.75755958\n",
            " 0.89079408 0.19618101 0.85418308 1.53057163 0.47271549 2.74001572\n",
            " 0.7726517  0.77114142 0.33076838 0.9445959  3.02401953 0.54936104\n",
            " 1.75224561 1.11882534 5.30509757 0.73385808 2.53888973 0.42280869\n",
            " 0.81722629 1.74507693 1.85777593 1.21763196 1.5047992  0.86829033\n",
            " 2.22430319 2.04014053 2.29839782 2.31773569]\n"
          ]
        },
        {
          "output_type": "display_data",
          "data": {
            "text/plain": [
              "<Figure size 432x288 with 1 Axes>"
            ],
            "image/png": "[encoded data removed]"
          },
          "metadata": {
            "needs_background": "light"
          }
        }
      ]
    },
    {
      "cell_type": "markdown",
      "metadata": {
        "id": "1YKJ00zNLSg4"
      },
      "source": [
        "##1.9 Chi-square distribution"
      ]
    },
    {
      "cell_type": "code",
      "metadata": {
        "id": "HHhhWLzZ6drk",
        "outputId": "8f3282c9-e0e2-4c18-9c54-f628fde32c9c",
        "colab": {
          "base_uri": "https://localhost:8080/",
          "height": 578
        }
      },
      "source": [
        "# https://docs.scipy.org/doc/scipy/reference/generated/scipy.stats.chi2.html#scipy.stats.chi2\n",
        "from scipy.stats import chi2\n",
        "k = 5 # degree of freedom satisfies k > 0\n",
        "\n",
        "data_xi = chi2.rvs(k, size=100)\n",
        "print(data_xi)\n",
        "\n",
        "plt.plot(data_xi, \"bo\")\n",
        "plt.axis([-10, 100, 0, 10])\n",
        "plt.grid()\n",
        "plt.show()\n",
        "\n"
      ],
      "execution_count": 10,
      "outputs": [
        {
          "output_type": "stream",
          "name": "stdout",
          "text": [
            "[ 3.02960066  4.61927128  0.2184938   5.89890706  4.60975989  0.53870464\n",
            "  6.31490311  2.22528868  3.34692643  0.78114677  5.62451313 15.93939855\n",
            "  8.79072485  2.12000225  1.42600041  4.07417922  7.44444961  6.84533879\n",
            "  6.90792743  2.95290238  2.71719449  9.64808286  4.66958076  7.26433452\n",
            "  2.79084186  7.51045274  1.74172858  8.26939698  3.54938502  2.46516166\n",
            "  4.98975097  1.91082621  3.31542493 11.2543117   4.72242622  2.11406038\n",
            "  9.70093409  7.27172915  6.18268677  4.21880859  5.40435316  4.69605664\n",
            "  7.29311693  9.45094944  7.58150788  4.52093226  6.93732757  3.34372669\n",
            "  4.05988826  3.6893432   3.64617932  7.90236477  5.1670991   4.32662228\n",
            " 11.34246571  5.1566928   2.4695794  10.12590758  4.95873381  4.55051888\n",
            "  4.35938687  1.45368012  8.12592577 13.04798042  4.97347933  3.62169914\n",
            "  8.60281553  4.30265014  3.72499438  4.84975059  5.14277981  4.03406646\n",
            "  7.77990067  5.46821387  4.60670602  2.3236645   1.436432    2.31006478\n",
            " 10.48091889  6.3535367   2.64118579  4.77823991  3.13496423  2.31436072\n",
            "  0.76303404  3.90666591  9.73839484  6.41363106  6.14804076  1.48415001\n",
            "  8.83887297  5.43996637  1.87681063  6.62804403  1.25404655  5.65849322\n",
            "  5.24474749  7.36747317  2.14708351  6.11751642]\n"
          ]
        },
        {
          "output_type": "display_data",
          "data": {
            "text/plain": [
              "<Figure size 432x288 with 1 Axes>"
            ],
            "image/png": "[encoded data removed]"
          },
          "metadata": {
            "needs_background": "light"
          }
        }
      ]
    },
    {
      "cell_type": "markdown",
      "metadata": {
        "id": "vR4nBJ2RLLgg"
      },
      "source": [
        "##1.10 Student's distribution"
      ]
    },
    {
      "cell_type": "code",
      "metadata": {
        "id": "S9PQctrq6dXo",
        "outputId": "bd0f6f42-a612-42af-c946-373f88dfc04a",
        "colab": {
          "base_uri": "https://localhost:8080/",
          "height": 578
        }
      },
      "source": [
        "# https://docs.scipy.org/doc/scipy/reference/generated/scipy.stats.nct.html#scipy.stats.nct\n",
        "from scipy.stats import nct\n",
        "k = 5 # degree of freedom satisfies the condition k > 0\n",
        "\n",
        "data_st = nct.rvs(k, p, size=100)\n",
        "print(data_st)\n",
        "\n",
        "plt.plot(data_st, \"bo\")\n",
        "plt.axis([-10, 100, -2, 10])\n",
        "plt.grid()\n",
        "plt.show()"
      ],
      "execution_count": 11,
      "outputs": [
        {
          "output_type": "stream",
          "name": "stdout",
          "text": [
            "[ 0.4611414   2.06981572  1.53160679 -0.24082419 -0.76830278  0.19604443\n",
            "  2.40781835  0.4659768   1.00285695  0.79241187 -0.26108838  1.00259432\n",
            " -1.02263888  3.63220952  0.33962061  2.2065546   0.50034408  0.78031747\n",
            " -0.44250492  2.66671583 -0.35143112  0.96243426  0.54545587  0.13452564\n",
            " -1.08202662  1.03219324 -1.06873582 -2.0555499   0.55257944  2.90070549\n",
            "  2.84806573  0.02618578  1.481827    3.22170585  0.40876858  1.56161889\n",
            " -0.62472337  2.12352412 -1.5990532   0.64654503  1.17184444  0.34506657\n",
            "  0.52544984 -0.57256803  1.50582937  0.8840047  -0.70112276  2.46524291\n",
            "  1.78823136 -0.52171431  0.84934423  0.94539088 -0.33458304  0.68621627\n",
            " -0.21502164 -0.9939349   0.382817    1.43272186  1.15522224  0.78053202\n",
            "  0.1680258   0.77282939  3.42161997  3.52908905  0.41580267 -0.96132027\n",
            " -0.28406411  0.48595079  0.9897319   1.8570015   0.32406178  0.47777682\n",
            " -0.78953285  0.62495296  1.29901806  2.49240382  1.86664142  1.26536593\n",
            " -1.14823243  1.18349623  0.6864617  -0.14527378  0.76684418  0.92652279\n",
            "  1.74418628  1.88447992  0.76444521 -0.30849242  1.74146751 -0.69517842\n",
            "  0.6507476   1.20396077 -0.39977331 -0.03503728  0.61220311  0.99177455\n",
            "  1.64490984 -0.83199634  3.03878378  0.14480631]\n"
          ]
        },
        {
          "output_type": "display_data",
          "data": {
            "text/plain": [
              "<Figure size 432x288 with 1 Axes>"
            ],
            "image/png": "[encoded data removed]"
          },
          "metadata": {
            "needs_background": "light"
          }
        }
      ]
    },
    {
      "cell_type": "markdown",
      "metadata": {
        "id": "Gf1PKw5-xi2P"
      },
      "source": [
        "##1.11 Fisher-Snedekor distribution"
      ]
    },
    {
      "cell_type": "code",
      "metadata": {
        "id": "76C6p7LuzgPz",
        "outputId": "bfdaefb0-64f2-4500-f7d9-8ae59e9d8371",
        "colab": {
          "base_uri": "https://localhost:8080/"
        }
      },
      "source": [
        "# https://docs.scipy.org/doc/scipy/reference/generated/scipy.stats.f.html#scipy.stats.f\n",
        "from scipy.stats import f\n",
        "dfn = 21 # degree of freedom \n",
        "dfd = 14 # degree of freedom \n",
        "data_fish = f.rvs(dfn, dfd, size=100)\n",
        "print(data_fish)\n"
      ],
      "execution_count": 12,
      "outputs": [
        {
          "output_type": "stream",
          "name": "stdout",
          "text": [
            "[0.98251304 1.51152931 0.91376392 0.70095717 1.31893508 0.89846746\n",
            " 1.22494049 0.94242295 2.18494588 1.81810005 2.14809752 0.65490524\n",
            " 1.04217622 0.51910912 0.31469978 1.53450488 0.62680783 1.05144992\n",
            " 0.7110328  2.43174016 0.93474636 2.45299932 1.47204587 0.78272816\n",
            " 2.49179123 0.90217375 0.83284522 1.47561946 1.36545736 1.44885994\n",
            " 1.39121353 0.52478617 0.63689811 1.05654163 1.59620007 0.54904287\n",
            " 1.04532774 1.07672859 0.88621665 2.186137   2.23421959 0.6359497\n",
            " 0.59095429 1.15769064 2.84088785 1.53443227 0.82286588 0.40922042\n",
            " 0.47435577 1.24730197 0.57450432 1.15948728 1.36436306 0.46849756\n",
            " 0.96322638 2.43154364 0.85822619 0.63607493 1.12545107 0.82859107\n",
            " 1.53152654 0.84081215 0.92395005 0.78083748 1.0954948  1.1131535\n",
            " 0.9495015  1.06130967 1.76195662 1.05224754 2.88084117 0.41307378\n",
            " 1.63106048 2.17665195 1.19888142 0.67676666 0.28436927 0.70097558\n",
            " 0.82394739 2.58901512 0.61667002 1.14178255 1.19104084 1.24613783\n",
            " 0.66404828 0.92692444 3.54974017 0.91175184 2.39670554 0.74158213\n",
            " 0.78246537 1.94590266 0.66934471 0.92287423 0.97881857 1.64157421\n",
            " 0.607671   0.4575559  1.35743295 1.5370669 ]\n"
          ]
        }
      ]
    },
    {
      "cell_type": "markdown",
      "metadata": {
        "id": "p80S3r-mfcCC"
      },
      "source": [
        "## 2. Calculation of distribution characteristics"
      ]
    },
    {
      "cell_type": "markdown",
      "metadata": {
        "id": "28SPKIthkUS_"
      },
      "source": [
        "##3.1 Expected value"
      ]
    },
    {
      "cell_type": "code",
      "metadata": {
        "outputId": "719277e6-cb4f-4f40-8667-5d56d7ad11b1",
        "id": "zTkDHsaTRWgx",
        "colab": {
          "base_uri": "https://localhost:8080/"
        }
      },
      "source": [
        "# standard function np.mean(data)\n",
        "print(\" Expected value of the normal distribution: \", np.mean(data_norm))\n",
        "print(\" Expected value of the binomial distribution: \", np.mean(data_binom))\n",
        "print(\" Expected value of the Bernoulli distribution: \", np.mean(data_bern))\n",
        "print(\" Expected value of the geometric distribution: \", np.mean(data_geom))\n",
        "print(\" Expected value of the hypergeometric distribution: \", np.mean(data_hiper))\n",
        "print(\" Expected value of the Poisson distribution: \", np.mean(data_poisson))\n",
        "print(\" Expected value of the exponential distribution: \", np.mean(data_rasp))\n",
        "print(\" Expected value of the log-normal distribution: \", np.mean(data_log))\n",
        "print(\" Expected value of the chi-square distribution: \", np.mean(data_xi))\n",
        "print(\" Expected value of the Student distribution: \", np.mean(data_st))\n",
        "print(\" Expected value of the Fisher-Snedekor distribution: \", np.mean(data_fish))"
      ],
      "execution_count": 15,
      "outputs": [
        {
          "output_type": "stream",
          "name": "stdout",
          "text": [
            " Expected value of the normal distribution:  0.16501613526606826\n",
            " Expected value of the binomial distribution:  3.34\n",
            " Expected value of the Bernoulli distribution:  0.61\n",
            " Expected value of the geometric distribution:  1.82\n",
            " Expected value of the hypergeometric distribution:  4.18\n",
            " Expected value of the Poisson distribution:  0.61\n",
            " Expected value of the exponential distribution:  0.9532883353193149\n",
            " Expected value of the log-normal distribution:  1.3037190527256335\n",
            " Expected value of the chi-square distribution:  5.155332907167176\n",
            " Expected value of the Student distribution:  0.7294071399186524\n",
            " Expected value of the Fisher-Snedekor distribution:  1.1977076451515023\n"
          ]
        }
      ]
    },
    {
      "cell_type": "markdown",
      "metadata": {
        "id": "27tg_QiDBl8s"
      },
      "source": [
        "##3.2 Variance"
      ]
    },
    {
      "cell_type": "code",
      "metadata": {
        "id": "BufaDxIifcCE",
        "outputId": "0179046f-ccf5-4cf1-877c-9fabe2622531",
        "colab": {
          "base_uri": "https://localhost:8080/"
        }
      },
      "source": [
        "# standard function np.var(data)\n",
        "print(\"Normal distribution variance: \", np.var(data_norm))\n",
        "print(\"Binomial distribution variance: \", np.var(data_binom))\n",
        "print(\"Bernoulli distribution variance: \", np.var(data_bern))\n",
        "print(\"Variance of the geometric distribution: \", np.var(data_geom))\n",
        "print(\"Variance of the hypergeometric distribution: \", np.var(data_hiper))\n",
        "print(\"Poisson distribution variance: \", np.var(data_poisson))\n",
        "print(\"The variance of the exponential distribution: \", np.var(data_rasp))\n",
        "print(\"The variance of the log-normal distribution: \", np.var(data_log))\n",
        "print(\"Variance of chi-square distribution: \", np.var(data_xi))\n",
        "print(\"Variance of the Student distribution: \", np.var(data_st))\n",
        "print(\"Fisher-Snedekor distribution variance: \", np.var(data_fish))"
      ],
      "execution_count": 16,
      "outputs": [
        {
          "output_type": "stream",
          "name": "stdout",
          "text": [
            "Normal distribution variance:  0.9993859763221395\n",
            "Binomial distribution variance:  1.0244000000000002\n",
            "Bernoulli distribution variance:  0.2379\n",
            "Variance of the geometric distribution:  1.4476\n",
            "Variance of the hypergeometric distribution:  1.2675999999999996\n",
            "Poisson distribution variance:  0.5779000000000001\n",
            "The variance of the exponential distribution:  0.8006953929442012\n",
            "The variance of the log-normal distribution:  0.6535173258759719\n",
            "Variance of chi-square distribution:  8.393002464009825\n",
            "Variance of the Student distribution:  1.383065814634776\n",
            "Fisher-Snedekor distribution variance:  0.4139305511395419\n"
          ]
        }
      ]
    },
    {
      "cell_type": "markdown",
      "metadata": {
        "id": "Uq3YyooEBjTD"
      },
      "source": [
        "##3.3 Quantiles"
      ]
    },
    {
      "cell_type": "code",
      "metadata": {
        "id": "ftDaX0DlES3J",
        "outputId": "351b5347-49ac-4aef-d637-bb78b7cc6720",
        "colab": {
          "base_uri": "https://localhost:8080/"
        }
      },
      "source": [
        "# standard function np.quantile(data, q)\n",
        "\n",
        "print(\"Normal distribution quantiles: \", np.quantile(data_norm, 0.6))\n",
        "print(\"Binomial distribution quantiles: \", np.quantile(data_binom, 0.6))\n"
      ],
      "execution_count": 19,
      "outputs": [
        {
          "output_type": "stream",
          "name": "stdout",
          "text": [
            "Normal distribution quantiles:  0.43927526583606397\n",
            "Binomial distribution quantiles:  4.0\n"
          ]
        }
      ]
    },
    {
      "cell_type": "markdown",
      "metadata": {
        "id": "QbpZolNSBm5M"
      },
      "source": [
        "##3.4 Median"
      ]
    },
    {
      "cell_type": "code",
      "metadata": {
        "id": "2AQpBs7CDzYW",
        "outputId": "a0a518b0-cd64-40a9-fdfd-90a208b55591",
        "colab": {
          "base_uri": "https://localhost:8080/"
        }
      },
      "source": [
        "# standard function np.median(data)\n",
        "print(\"Normal distribution median: \" , np.median(data_norm))\n",
        "print(\"Binomial distribution median: \" , np.median(data_binom))\n",
        "print(\"Bernoulli distribution median: \" , np.median(data_bern))\n"
      ],
      "execution_count": 18,
      "outputs": [
        {
          "output_type": "stream",
          "name": "stdout",
          "text": [
            "Normal distribution median:  0.01697042117804626\n",
            "Binomial distribution median:  3.0\n",
            "Bernoulli distribution median:  1.0\n"
          ]
        }
      ]
    },
    {
      "cell_type": "markdown",
      "metadata": {
        "id": "ev_5hRbcBm_n"
      },
      "source": [
        "##3.5 Mode"
      ]
    },
    {
      "cell_type": "code",
      "metadata": {
        "id": "50sci3OcDy_2",
        "outputId": "cc56058b-9043-47e1-e148-65067c7d2160",
        "colab": {
          "base_uri": "https://localhost:8080/"
        }
      },
      "source": [
        "from scipy.stats import mode\n",
        "# standard function mode(data)\n",
        "print(\"Mode of the normal distribution: \" , mode(data_norm))\n",
        "print(\"Mode of the Binomial distribution: \" , mode(data_binom))\n",
        "print(\"Mode of Bernoulli distribution: \" , mode(data_bern))\n"
      ],
      "execution_count": 20,
      "outputs": [
        {
          "output_type": "stream",
          "name": "stdout",
          "text": [
            "Mode of the normal distribution:  ModeResult(mode=array([-2.01478533]), count=array([1]))\n",
            "Mode of the Binomial distribution:  ModeResult(mode=array([3]), count=array([37]))\n",
            "Mode of Bernoulli distribution:  ModeResult(mode=array([1]), count=array([61]))\n"
          ]
        }
      ]
    },
    {
      "cell_type": "markdown",
      "metadata": {
        "id": "xx5Y_6qLBj44"
      },
      "source": [
        "##3.6 Standard deviation"
      ]
    },
    {
      "cell_type": "code",
      "metadata": {
        "outputId": "17bc632f-9221-4e22-e8e5-bdd0c38ef52d",
        "id": "eN-4lkyaBtfT",
        "colab": {
          "base_uri": "https://localhost:8080/"
        }
      },
      "source": [
        "# standard function np.std(data)\n",
        "print(\"Standard deviation of the normal distribution: \" , np.std(data_norm))\n",
        "print(\"Standard deviation of the binomial distribution: \" , np.std(data_binom))\n",
        "print(\"Standard deviation of the Bernoulli distribution: \" , np.std(data_bern))"
      ],
      "execution_count": 21,
      "outputs": [
        {
          "output_type": "stream",
          "name": "stdout",
          "text": [
            "Standard deviation of the normal distribution:  0.9996929410184607\n",
            "Standard deviation of the binomial distribution:  1.0121264743103997\n",
            "Standard deviation of the Bernoulli distribution:  0.4877499359302879\n"
          ]
        }
      ]
    },
    {
      "cell_type": "markdown",
      "metadata": {
        "id": "B8Wlw7PsBkFX"
      },
      "source": [
        "##3.7 Interquartile range"
      ]
    },
    {
      "cell_type": "code",
      "metadata": {
        "outputId": "542248a8-6493-45a9-8014-e8f2ff92832a",
        "id": "PVhsEiocL85C",
        "colab": {
          "base_uri": "https://localhost:8080/"
        }
      },
      "source": [
        "from scipy import stats\n",
        "# standard function stats.iqr(data, interpolation = 'midpoint') \n",
        "\n",
        "print(\"Interquartile range of the normal distribution \", stats.iqr(data_norm, interpolation = 'midpoint'))\n",
        "print(\"Interquartile range of the binomial distribution \" , stats.iqr(data_binom, interpolation = 'midpoint'))\n",
        "print(\" Interquartile range of the Bernoulli distribution \" , stats.iqr(data_bern, interpolation = 'midpoint'))\n"
      ],
      "execution_count": 22,
      "outputs": [
        {
          "output_type": "stream",
          "name": "stdout",
          "text": [
            "Interquartile range of the normal distribution  1.2958561934269388\n",
            "Interquartile range of the binomial distribution  1.0\n",
            " Interquartile range of the Bernoulli distribution  1.0\n"
          ]
        }
      ]
    },
    {
      "cell_type": "markdown",
      "metadata": {
        "id": "-o4s6j75fcCI"
      },
      "source": [
        "# 3. Anscombe's Quartet\" in Python"
      ]
    },
    {
      "cell_type": "code",
      "metadata": {
        "id": "LUzknKfEfcCJ",
        "outputId": "ecf53a84-14a2-4706-dd7e-9af42410a513",
        "colab": {
          "base_uri": "https://localhost:8080/",
          "height": 338
        }
      },
      "source": [
        "x = [10, 8, 13, 9, 11, 14, 6, 4, 12, 7, 5]\n",
        "y1 = [8.04, 6.95, 7.58, 8.81, 8.33, 9.96, 7.24, 4.26, 10.84, 4.82, 5.68]\n",
        "y2 = [9.14, 8.14, 8.74, 8.77, 9.26, 8.10, 6.13, 3.10, 9.13, 7.26, 4.74]\n",
        "y3 = [7.46, 6.77, 12.74, 7.11, 7.81, 8.84, 6.08, 5.39, 8.15, 6.42, 5.73]\n",
        "x4 = [8, 8, 8, 8, 8, 8, 8, 19, 8, 8, 8]\n",
        "y4 = [6.58, 5.76, 7.71, 8.84, 8.47, 7.04, 5.25, 12.50, 5.56, 7.91, 6.89]\n",
        "\n",
        "\n",
        "def fit(x):\n",
        "    return 3 + 0.5 * x\n",
        "\n",
        "\n",
        "fig, axs = plt.subplots(2, 2, sharex=True, sharey=True)\n",
        "axs[0, 0].set(xlim=(0, 20), ylim=(2, 14))\n",
        "axs[0, 0].set(xticks=(0, 10, 20), yticks=(4, 8, 12))\n",
        "\n",
        "xfit = np.array([np.min(x), np.max(x)])\n",
        "axs[0, 0].plot(x, y1, 'ks', xfit, fit(xfit), 'r-', lw=2)\n",
        "axs[0, 1].plot(x, y2, 'ks', xfit, fit(xfit), 'r-', lw=2)\n",
        "axs[1, 0].plot(x, y3, 'ks', xfit, fit(xfit), 'r-', lw=2)\n",
        "xfit = np.array([np.min(x4), np.max(x4)])\n",
        "axs[1, 1].plot(x4, y4, 'ks', xfit, fit(xfit), 'r-', lw=2)\n",
        "\n",
        "for ax, label in zip(axs.flat, ['I', 'II', 'III', 'IV']):\n",
        "    ax.label_outer()\n",
        "    ax.text(3, 12, label, fontsize=20)\n",
        "\n",
        "pairs = (x, y1), (x, y2), (x, y3), (x4, y4)\n",
        "for x, y in pairs:\n",
        "    print('mean=%1.2f, sample variance=%1.2f, correlation=%1.2f' % (np.mean(y), np.std(y),\n",
        "          np.corrcoef(x, y)[0][1]))  \n",
        "\n",
        "plt.show()"
      ],
      "execution_count": 23,
      "outputs": [
        {
          "output_type": "stream",
          "name": "stdout",
          "text": [
            "mean=7.50, sample variance=1.94, correlation=0.82\n",
            "mean=7.50, sample variance=1.94, correlation=0.82\n",
            "mean=7.50, sample variance=1.94, correlation=0.82\n",
            "mean=7.50, sample variance=1.94, correlation=0.82\n"
          ]
        },
        {
          "output_type": "display_data",
          "data": {
            "text/plain": [
              "<Figure size 432x288 with 4 Axes>"
            ],
            "image/png": "[encoded data removed]"
          },
          "metadata": {
            "needs_background": "light"
          }
        }
      ]
    },
    {
      "cell_type": "markdown",
      "source": [
        "\"The quartet is still often used to illustrate the importance of looking at a set of data graphically before starting to analyze according to a particular type of relationship, and the inadequacy of basic statistic properties for describing realistic datasets\""
      ],
      "metadata": {
        "id": "Q5Ux0K0PPQi_"
      }
    }
  ]
}